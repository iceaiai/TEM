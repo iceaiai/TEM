{
 "cells": [
  {
   "cell_type": "code",
   "execution_count": 99,
   "id": "3c7403f3",
   "metadata": {},
   "outputs": [],
   "source": [
    "mannual_measured_size={}\n",
    "semi_mannual_measured_size={}"
   ]
  },
  {
   "cell_type": "code",
   "execution_count": 1,
   "id": "94801016",
   "metadata": {},
   "outputs": [
    {
     "name": "stderr",
     "output_type": "stream",
     "text": [
      "WARNING:silx.opencl.common:Unable to import pyOpenCl. Please install it from: https://pypi.org/project/pyopencl\n"
     ]
    }
   ],
   "source": [
    "#%matplotlib nbagg\n",
    "#%matplotlib notebook\n",
    "import matplotlib.pyplot as plt \n",
    "%matplotlib qt\n",
    "import numpy as np\n",
    "import pyxem as pxm\n",
    "import hyperspy.api as hs\n",
    "from pyxem.libraries.calibration_library import CalibrationDataLibrary\n",
    "from pyxem.generators.calibration_generator import CalibrationGenerator\n",
    "#%matplotlib inline"
   ]
  },
  {
   "cell_type": "code",
   "execution_count": 2,
   "id": "12fdc554",
   "metadata": {},
   "outputs": [],
   "source": [
    "s1=hs.load('STEM SI.dm4')"
   ]
  },
  {
   "cell_type": "code",
   "execution_count": 177,
   "id": "16422d4b",
   "metadata": {},
   "outputs": [],
   "source": [
    "s=s1[2]"
   ]
  },
  {
   "cell_type": "code",
   "execution_count": 178,
   "id": "a4184765",
   "metadata": {},
   "outputs": [],
   "source": [
    "s.set_signal_type('electron_diffraction')"
   ]
  },
  {
   "cell_type": "code",
   "execution_count": 179,
   "id": "982b2934",
   "metadata": {},
   "outputs": [],
   "source": [
    "s.plot() #please move to the ROI in the navigation image"
   ]
  },
  {
   "cell_type": "code",
   "execution_count": 180,
   "id": "0aa1e3d3",
   "metadata": {},
   "outputs": [],
   "source": [
    "roi = hs.roi.CircleROI(cx=-2.6,cy=-1.13, r_inner=0, r=0.5) # mask on specific reflection point"
   ]
  },
  {
   "cell_type": "code",
   "execution_count": 181,
   "id": "ad0d715f",
   "metadata": {},
   "outputs": [
    {
     "data": {
      "application/vnd.jupyter.widget-view+json": {
       "model_id": "b42690534cd2496eb9aa81c616957351",
       "version_major": 2,
       "version_minor": 0
      },
      "text/plain": [
       "VBox(children=(HBox(children=(FloatText(value=-2.6, description='x'), FloatText(value=-1.13, description='y'))…"
      ]
     },
     "metadata": {},
     "output_type": "display_data"
    }
   ],
   "source": [
    "roi.gui() # after run this code, drag the ROI to the flection point"
   ]
  },
  {
   "cell_type": "code",
   "execution_count": 338,
   "id": "87bc977d",
   "metadata": {},
   "outputs": [],
   "source": [
    "s.plot_integrated_intensity(roi)"
   ]
  },
  {
   "cell_type": "code",
   "execution_count": 326,
   "id": "2afa7567",
   "metadata": {},
   "outputs": [],
   "source": [
    "SI_image_coord=(291,6) # your input  # (x,y):the coordinations of picked spot in the SI image. Read from Diffraction SI Signal\n",
    "x=-3.199985459446907 # your input \n",
    "y=8.718800961971283 # your input \n",
    "\n",
    "Center_of_reflection=(x,y) \n",
    "Center_of_reflection_in_pixel= (Center_of_reflection[0]/s.axes_manager[3].scale,Center_of_reflection[1]/s.axes_manager[3].scale) # # (x,y):the coordinations of the picked reflection point in the Diffraction pattern, copied from roi.gui()\n",
    "DP_image=s.inav[SI_image_coord] #retrieve DP data\n",
    "DP_image_data=DP_image.data\n",
    "radius=0.5 # your input \n",
    "radius_in_pixel=radius/s.axes_manager[3].scale"
   ]
  },
  {
   "cell_type": "code",
   "execution_count": 327,
   "id": "6c701924",
   "metadata": {},
   "outputs": [],
   "source": [
    "roi2 = hs.roi.CircleROI(cx=Center_of_reflection[0],cy=Center_of_reflection[1], r_inner=0, r=radius) # this is the same as roi, but for selecting VDF image"
   ]
  },
  {
   "cell_type": "code",
   "execution_count": 328,
   "id": "6ad98cad",
   "metadata": {},
   "outputs": [],
   "source": [
    "vdf = s.get_integrated_intensity(roi2)\n",
    "vdf.plot()\n",
    "vdf_data=vdf.data.data\n",
    "vdf_pixel_to_nm=s.axes_manager[1].scale\n",
    "DP_pixel_to_nm=s.axes_manager[3].scale"
   ]
  },
  {
   "cell_type": "code",
   "execution_count": 329,
   "id": "3b72c53c",
   "metadata": {},
   "outputs": [],
   "source": [
    "image_num = 9 # Very important! your input image number"
   ]
  },
  {
   "cell_type": "code",
   "execution_count": 330,
   "id": "cfef44a2",
   "metadata": {},
   "outputs": [],
   "source": [
    "\n",
    "if 'coord_in_SI' not in locals() or 'dict_for_image_storage' not in globals():\n",
    "    coord_in_SI=[]\n",
    "coord_in_SI.append(SI_image_coord) # Store the picked spot from SI image.\n",
    "\n",
    "# Check if dict_for_image_storage exists, if not, initialize it as an empty dictionary\n",
    "if 'dict_for_image_storage' not in locals() or 'dict_for_image_storage' not in globals():\n",
    "    dict_for_image_storage = {}\n",
    "\n",
    "# Check if '1-2-VDF' and '1-2-DP' keys exist in dict_for_image_storage\n",
    "if '1-2-VDF' not in dict_for_image_storage:\n",
    "    dict_for_image_storage['1-2-VDF'] = {}\n",
    "if '1-2-DP' not in dict_for_image_storage:\n",
    "    dict_for_image_storage['1-2-DP'] = {}\n",
    "\n",
    "# Assuming vdf_data, DP_image_data, SI_image_coord, Center_of_reflection_in_pixel, and radius_in_pixel are defined elsewhere\n",
    "# Update data in the dictionary\n",
    "dict_for_image_storage['1-2-VDF'][image_num] = (vdf_data, vdf_pixel_to_nm)  # (image#, vdf data)\n",
    "dict_for_image_storage['1-2-DP'][image_num] = (DP_image_data, DP_pixel_to_nm, SI_image_coord, Center_of_reflection_in_pixel, radius_in_pixel)\n",
    "\n",
    "# Save images in text files\n",
    "np.savetxt('1-2-{}-VDF.txt'.format(image_num), dict_for_image_storage['1-2-VDF'][image_num][0])  # Save VDF data in a text file\n",
    "np.savetxt('1-2-{}-DP.txt'.format(image_num), dict_for_image_storage['1-2-DP'][image_num][0])  # Save DP image data in a text file                        \n"
   ]
  },
  {
   "cell_type": "code",
   "execution_count": 331,
   "id": "3f59246b",
   "metadata": {},
   "outputs": [],
   "source": [
    "from math import *\n",
    "\n",
    "# Assuming dict_for_image_storage, image_num, vdf_pixel_to_nm, DP_pixel_to_nm, vdf_data, and DP_image_data are defined\n",
    "\n",
    "# Plot VDF_data as a grayscale image without a scale bar\n",
    "vdf_data_with_scale = dict_for_image_storage['1-2-VDF'][image_num][0]\n",
    "vdf_scale_factor = vdf_pixel_to_nm  # Adjust the scale based on vdf_pixel_to_nm\n",
    "plt.figure(figsize=(8, 6))\n",
    "plt.imshow(vdf_data_with_scale, cmap='gray', extent=[0, vdf_data_with_scale.shape[1] * vdf_scale_factor, 0, vdf_data_with_scale.shape[0] * vdf_scale_factor])\n",
    "plt.title('VDF Data (Image {})'.format(image_num))\n",
    "plt.xlabel('X (nm)')  # X-axis label indicating nanometers\n",
    "plt.ylabel('Y (nm)')  # Y-axis label indicating nanometers\n",
    "plt.savefig('1-2-{}-VDF.tif'.format(image_num))\n",
    "\n",
    "# Plot DP_image_data as a grayscale image with a scale bar (10/nm) using DP_pixel_to_nm\n",
    "DP_data_with_scale = dict_for_image_storage['1-2-DP'][image_num][0]\n",
    "DP_scale_factor = DP_pixel_to_nm  # Adjust the scale based on DP_pixel_to_nm\n",
    "plt.figure(figsize=(8, 6))\n",
    "plt.imshow(DP_data_with_scale, cmap='gray', extent=[0, DP_data_with_scale.shape[1] * DP_scale_factor, 0, DP_data_with_scale.shape[0] * DP_scale_factor], vmin=0, vmax=1000)  # Assuming 0-1000 range for grayscale\n",
    "plt.title('DP Image Data (Image {})'.format(image_num))\n",
    "plt.xlabel('X (/nm)')  # X-axis label indicating nanometers\n",
    "plt.ylabel('Y (/nm)')  # Y-axis label indicating nanometers\n",
    "\n",
    "\n",
    "def deg2rad(deg):\n",
    "    return deg * pi / 180\n",
    "\n",
    "\n",
    "image_width, image_height = DP_data_with_scale.shape[1]*s.axes_manager[3].scale, DP_data_with_scale.shape[0]*s.axes_manager[3].scale\n",
    "\n",
    "circle_points = 100\n",
    "radius_in_nm = radius # Radius in nanometers\n",
    "center_x,center_y= Center_of_reflection\n",
    "center_x += image_width / 2\n",
    "center_y =image_width / 2-center_y\n",
    "\n",
    "\n",
    "for angle in range(0, 360, 360 // circle_points):\n",
    "    x = center_x - radius_in_nm * cos(deg2rad(angle))\n",
    "    y = center_y + radius_in_nm * sin(deg2rad(angle))\n",
    "    plt.plot(x, y, marker='o', markersize=1, color='blue') \n",
    "\n",
    "plt.show()\n",
    "plt.savefig('1-2-{}-DP.tif'.format(image_num))"
   ]
  },
  {
   "cell_type": "code",
   "execution_count": 332,
   "id": "fa39f456",
   "metadata": {},
   "outputs": [
    {
     "name": "stdout",
     "output_type": "stream",
     "text": [
      "Final Adjusted Lengths:\n",
      "Measured Length: 5.60 nm\n",
      "Measured Length: 8.12 nm\n"
     ]
    }
   ],
   "source": [
    "#Measure the linewidth mannually\n",
    "from matplotlib.widgets import SpanSelector\n",
    "\n",
    "# Assuming dict_for_image_storage, image_num, vdf_pixel_to_nm, and vdf_data are defined\n",
    "vdf_data = dict_for_image_storage['1-2-VDF'][image_num][0]\n",
    "vdf_scale_factor = vdf_pixel_to_nm  # Adjust the scale based on vdf_pixel_to_nm\n",
    "\n",
    "# Lists to store line coordinates and measured lengths\n",
    "line_coords = []\n",
    "line_lengths = []\n",
    "\n",
    "# Function to be called when a line is selected\n",
    "def onselect(xmin, xmax):\n",
    "    x_coords = [xmin, xmax]\n",
    "    line_coords.append(x_coords)\n",
    "    length_nm = (xmax - xmin)\n",
    "    line_lengths.append(length_nm)\n",
    "    print(f'Measured Length: {length_nm:.2f} nm')\n",
    "    plt.axhline(y=0, color='red', linewidth=2)  # Draw a red line after each measurement\n",
    "    plt.draw()\n",
    "\n",
    "fig, ax = plt.subplots(figsize=(8, 6))\n",
    "ax.imshow(vdf_data, cmap='gray', extent=[0, vdf_data.shape[1] * vdf_scale_factor, 0, vdf_data.shape[0] * vdf_scale_factor])\n",
    "plt.title('VDF Data (Image {})'.format(image_num))\n",
    "plt.xlabel('X (nm)')  # X-axis label indicating nanometers\n",
    "plt.ylabel('Y (nm)')  # Y-axis label indicating nanometers\n",
    "\n",
    "# SpanSelector to draw lines interactively\n",
    "span = SpanSelector(ax, onselect, 'horizontal', useblit=True, rectprops=dict(alpha=0.5, facecolor='red'))\n",
    "color_list=['red','green','blue','yellow','white']\n",
    "plt.show()\n",
    "\n",
    "# Print the final adjusted lengths\n",
    "print('Final Adjusted Lengths:')\n",
    "for i, length in enumerate(line_lengths):\n",
    "    print(f'Line {i + 1}: {length:.2f} nm')"
   ]
  },
  {
   "cell_type": "code",
   "execution_count": 334,
   "id": "7581c415",
   "metadata": {},
   "outputs": [],
   "source": [
    "#run the following script to save the figure with measurements and the results\n",
    "fig, ax = plt.subplots(figsize=(8, 6))\n",
    "ax.imshow(vdf_data, cmap='gray', extent=[0, vdf_data.shape[1] * vdf_scale_factor, 0, vdf_data.shape[0] * vdf_scale_factor])\n",
    "plt.title('VDF Data (Image {})'.format(image_num))\n",
    "plt.xlabel('X (nm)')  # X-axis label indicating nanometers\n",
    "plt.ylabel('Y (nm)')\n",
    "color_list=['red','green','blue','yellow','white']\n",
    "plot_position=[-30,vdf_data.shape[0]* vdf_scale_factor+20]\n",
    "for i in range(len(line_coords)):\n",
    "    plt.axvline(x=line_coords[i][0], color=color_list[i], linestyle='--', linewidth=2)\n",
    "    plt.axvline(x=line_coords[i][1], color=color_list[i], linestyle='--', linewidth=2)\n",
    "    particle_num=i+1\n",
    "    plt.text(line_coords[i][0], plot_position[i%2],'particle %s \\n %s nm'%(particle_num,round(line_lengths[i],1)), fontsize=10, ha='center', va='center',c=color_list[i])\n",
    "plt.show()\n",
    "plt.savefig('1-2-{}-VDF-{}nm_manualy.tif'.format(image_num, line_lengths))\n",
    "line_lengths_array = np.array(line_lengths)\n",
    "line_lengths_round=np.round(line_lengths_array,1)\n",
    "np.savetxt('1-2-{}-VDF-{}nm-mannauly.txt'.format(image_num, line_lengths_round),line_lengths_round)\n",
    "mannual_measured_size[image_num]=line_lengths"
   ]
  },
  {
   "cell_type": "code",
   "execution_count": 335,
   "id": "01d56949",
   "metadata": {},
   "outputs": [
    {
     "data": {
      "text/plain": [
       "{1: [14.285237436212839],\n",
       " 2: [20.61555833931891],\n",
       " 3: [27.786187326908077],\n",
       " 4: [11.764313182763487],\n",
       " 5: [13.16482665690205],\n",
       " 6: [18.822901092421603],\n",
       " 7: [10.755943481383781],\n",
       " 8: [23.30454420966487],\n",
       " 9: [5.602053896554025, 8.122978150003405]}"
      ]
     },
     "execution_count": 335,
     "metadata": {},
     "output_type": "execute_result"
    }
   ],
   "source": [
    "mannual_measured_size"
   ]
  },
  {
   "cell_type": "code",
   "execution_count": 362,
   "id": "f4e50a63",
   "metadata": {},
   "outputs": [
    {
     "name": "stdout",
     "output_type": "stream",
     "text": [
      "Measured Length: [6.99023581 6.99023581] nm\n"
     ]
    }
   ],
   "source": [
    "#Semi-manual\n",
    "\n",
    "\n",
    "# Define Region of Interest (ROI)\n",
    "x_prime=7.5 #your input\n",
    "y_prime=17. #your input\n",
    "import numpy as np\n",
    "import matplotlib.pyplot as plt\n",
    "\n",
    "\n",
    "vdf_data_with_scale = dict_for_image_storage['1-2-VDF'][image_num][0]\n",
    "vdf_scale_factor = vdf_pixel_to_nm  # Adjust the scale based on vdf_pixel_to_nm\n",
    "plt.figure(figsize=(8, 6))\n",
    "plt.imshow(vdf_data_with_scale, cmap='gray', extent=[0, vdf_data_with_scale.shape[1] * vdf_scale_factor, 0, vdf_data_with_scale.shape[0] * vdf_scale_factor])\n",
    "plt.title('VDF Data (Image {})'.format(image_num))\n",
    "plt.xlabel('X (nm)')  # X-axis label indicating nanometers\n",
    "plt.ylabel('Y (nm)')  # Y-axis label indicating nanometers\n",
    "\n",
    "\n",
    "# Define Region of Interest (ROI)\n",
    "x_prime=7.5 #your input\n",
    "y_prime=17. #your input\n",
    "\n",
    "number_start=round(x_prime/vdf_scale_factor)\n",
    "number_end=round(y_prime/vdf_scale_factor)\n",
    "\n",
    "threshold = 40000  # Threshold value for the signal\n",
    "\n",
    "roi_data = vdf_data[4:10,:]  # Extract ROI\n",
    "\n",
    "mid= 3\n",
    "start_col=[]\n",
    "end_col = []\n",
    "start_Found=False\n",
    "\n",
    "for col in range(roi_data.shape[1]):\n",
    "    if roi_data[mid,col]>threshold and start_Found is False:\n",
    "        start_col.append(col)\n",
    "        start_Found=True\n",
    "    if roi_data[mid,col]<threshold and start_Found:\n",
    "        end_col.append(col)\n",
    "        start_Found=False\n",
    "if len(start_col)==(len(end_col)+1): #if start_col is larger than end_col\n",
    "    start_col.pop() #remove the last added one\n",
    "\n",
    "\n",
    "\n",
    "# Plot the VDF data\n",
    "plt.imshow(vdf_data, cmap='gray', extent=[0, vdf_data.shape[1], 0, vdf_data.shape[0]])\n",
    "plt.title('VDF Data (Image {})'.format(image_num))\n",
    "plt.xlabel('X (pixels)')\n",
    "plt.ylabel('Y (pixels)')\n",
    "\n",
    "# Draw the line on the plot\n",
    "color_list=['red','green','blue','yellow','white']\n",
    "plot_position=[-30,vdf_data.shape[0]* vdf_scale_factor+20]\n",
    "for i in range(len(start_col)):\n",
    "    if start_col is not None and end_col is not None:\n",
    "        plt.axvline(x=start_col[i], color=color_list[i], linestyle='--', linewidth=2)\n",
    "        plt.axvline(x=end_col[i], color=color_list[i], linestyle='--', linewidth=2)\n",
    "\n",
    "plt.show()\n",
    "start_col_array=np.array(start_col)\n",
    "end_col_array=np.array(end_col)\n",
    "measured_length = (end_col_array - start_col_array) * s.axes_manager[1].scale\n",
    "print('Measured Length:', measured_length, 'nm')\n",
    "\n",
    "# Save the plot\n",
    "plt.savefig('1-2-{}-VDF-{}nm_semi_mannualy.tif'.format(image_num, np.round(measured_length,1)))\n",
    "np.savetxt('1-2-{}-VDF-{}nm-semi_mannauly.txt'.format(image_num, np.round(measured_length,1)),measured_length)\n",
    "semi_mannual_measured_size[image_num]=measured_length\n"
   ]
  },
  {
   "cell_type": "code",
   "execution_count": 339,
   "id": "a520be5d",
   "metadata": {},
   "outputs": [
    {
     "data": {
      "text/plain": [
       "{2: 20.970707416534424,\n",
       " 1: 13,\n",
       " 3: 31.456061124801636,\n",
       " 4: 13.98047161102295,\n",
       " 5: 13.98047161102295,\n",
       " 6: array([20.97070742]),\n",
       " 7: array([10.48535371]),\n",
       " 8: array([15.72803056]),\n",
       " 9: array([6.99023581, 6.99023581])}"
      ]
     },
     "execution_count": 339,
     "metadata": {},
     "output_type": "execute_result"
    }
   ],
   "source": [
    "semi_mannual_measured_size"
   ]
  },
  {
   "cell_type": "code",
   "execution_count": 361,
   "id": "64818728",
   "metadata": {},
   "outputs": [
    {
     "data": {
      "text/plain": [
       "5"
      ]
     },
     "execution_count": 361,
     "metadata": {},
     "output_type": "execute_result"
    }
   ],
   "source": [
    "round(8/vdf_scale_factor)"
   ]
  },
  {
   "cell_type": "code",
   "execution_count": 359,
   "id": "a60f07b1",
   "metadata": {},
   "outputs": [],
   "source": [
    "#export the measured sizes from mannual or semi-mannual\n",
    "list_semi_mannual_measured_size=[]\n",
    "for i in range(len(semi_mannual_measured_size)):\n",
    "    list_semi_mannual_measured_size.append(semi_mannual_measured_size[i+1])\n",
    "\n",
    "def flatten(data):\n",
    "    flat_list = []\n",
    "    for item in data:\n",
    "        if isinstance(item, (int, float)):\n",
    "            flat_list.append(item)\n",
    "        elif isinstance(item, list):\n",
    "            flat_list.extend(flatten(item))\n",
    "        elif isinstance(item, np.ndarray):\n",
    "            flat_list.extend(item.tolist())\n",
    "    return flat_list\n",
    "\n",
    "flat_list_semi_mannual_measured_size = flatten(list_semi_mannual_measured_size)\n",
    "\n",
    "np.savetxt('Total semi_mannual_measured_size.txt',flat_list_semi_mannual_measured_size )\n",
    "\n",
    "list_mannual_measured_size=[]\n",
    "\n",
    "for i in range(len(mannual_measured_size)):\n",
    "    list_mannual_measured_size.append(mannual_measured_size[i+1])\n",
    "\n",
    "\n",
    "flat_list_mannual_measured_size = flatten(list_mannual_measured_size)\n",
    "np.savetxt('Total mannual_measured_size.txt',flat_list_mannual_measured_size )\n"
   ]
  },
  {
   "cell_type": "code",
   "execution_count": 358,
   "id": "aeb6200d",
   "metadata": {},
   "outputs": [
    {
     "data": {
      "text/plain": [
       "[[14.285237436212839],\n",
       " [20.61555833931891],\n",
       " [27.786187326908077],\n",
       " [11.764313182763487],\n",
       " [13.16482665690205],\n",
       " [18.822901092421603],\n",
       " [10.755943481383781],\n",
       " [23.30454420966487],\n",
       " [5.602053896554025, 8.122978150003405]]"
      ]
     },
     "execution_count": 358,
     "metadata": {},
     "output_type": "execute_result"
    }
   ],
   "source": [
    "#list_semi_mannual_measured_size\n",
    "list_mannual_measured_size"
   ]
  },
  {
   "cell_type": "code",
   "execution_count": 363,
   "id": "fb0ea1dc",
   "metadata": {},
   "outputs": [],
   "source": [
    "#Save all the files # dicts\n",
    "import pickle\n",
    "\n",
    "\n",
    "dicts_to_save = {\n",
    "    'mannual_measured_size': mannual_measured_size,\n",
    "    'semi_mannual_measured_size': semi_mannual_measured_size,\n",
    "    'dict_for_image_storage': dict_for_image_storage\n",
    "}\n",
    "\n",
    "with open('saved_dicts.pkl', 'wb') as file:\n",
    "    pickle.dump(dicts_to_save, file)"
   ]
  },
  {
   "cell_type": "code",
   "execution_count": 280,
   "id": "99677ca5",
   "metadata": {},
   "outputs": [],
   "source": [
    "# Load the dictionary containing our data\n",
    "with open('saved_dicts.pkl', 'rb') as file:\n",
    "    loaded_dicts = pickle.load(file)\n",
    "\n",
    "# Access individual dictionaries using their variable names\n",
    "#mannual_measured_size = loaded_dicts['mannual_measured_size']\n",
    "#semi_mannual_measured_size = loaded_dicts['semi_mannual_measured_size']\n",
    "#dict_for_image_storage = loaded_dicts['dict_for_image_storage']\n"
   ]
  },
  {
   "cell_type": "code",
   "execution_count": 405,
   "id": "d38ab842",
   "metadata": {},
   "outputs": [],
   "source": [
    "#After all the measurements done. Plotting all the DF images\n",
    "num_images = len(dict_for_image_storage['1-2-VDF'])\n",
    "fig, axes = plt.subplots(num_images, 1, figsize=(8, 6*num_images))\n",
    "semi_mannual_measured_size_round = {k: round(v, 1) if not isinstance(v, np.ndarray) else np.round(v, 1) for k, v in semi_mannual_measured_size.items()}\n",
    "mannual_measured_size_round = {k: [round(num, 1) for num in v] for k, v in mannual_measured_size.items()}\n",
    "# Iterate through the dictionary and plot images vertically\n",
    "for i in range(1, num_images + 1):\n",
    "    data, scale_factor = dict_for_image_storage['1-2-VDF'][i]\n",
    "    ax = axes[i - 1]  # Select the appropriate subplot\n",
    "    ax.imshow(data, cmap='gray', extent=[0, data.shape[1] * scale_factor, 0, data.shape[0] * scale_factor])\n",
    "    ax.set_title('VDF (image{} from point {} with sizes {} and {} measured by semi- or mannually)'.format(i, dict_for_image_storage['1-2-DP'][i][2], mannual_measured_size_round[i], semi_mannual_measured_size_round[i]))\n",
    "    ax.set_xlabel('X (nm)')  # Adjust the label according to your data unit\n",
    "    ax.set_ylabel('Y (nm)')  # Adjust the label according to your data unit\n",
    "\n",
    "plt.tight_layout()  # Adjust spacing between subplots for better visualization\n",
    "plt.savefig('Size measuremnts.tif') \n",
    "plt.show()"
   ]
  },
  {
   "cell_type": "code",
   "execution_count": 422,
   "id": "3870d1a1",
   "metadata": {},
   "outputs": [],
   "source": [
    "# Calculate the number of rows and columns for subplots\n",
    "num_images = len(dict_for_image_storage['1-2-DP'])\n",
    "num_rows = num_images // 3  # Number of rows (each row contains 3 images)\n",
    "num_cols = 3  # Number of columns\n",
    "\n",
    "# Create subplots\n",
    "fig, axes = plt.subplots(num_rows, num_cols, figsize=(18, 6*num_rows))\n",
    "\n",
    "# Iterate through the dictionary and plot images horizontally\n",
    "for i in range(num_images):\n",
    "    row = i // num_cols  # Calculate the row index\n",
    "    col = i % num_cols  # Calculate the column index\n",
    "    \n",
    "    data = dict_for_image_storage['1-2-DP'][i + 1][0]\n",
    "    scale_factor = dict_for_image_storage['1-2-DP'][i + 1][1]\n",
    "    ax = axes[row, col]  # Select the appropriate subplot\n",
    "    max_intensity = data.max()  # Calculate the maximum intensity value of the image\n",
    "    upper_intensity_limit = max_intensity / 10  # Set the upper intensity limit to 1/3 of the maximum intensity\n",
    "\n",
    "    # Plot the image with adjusted upper intensity limit\n",
    "    ax.imshow(data, cmap='gray', extent=[0, data.shape[1] * scale_factor, 0, data.shape[0] * scale_factor], vmax=upper_intensity_limit)\n",
    "    ax.set_title('DP (image {} from point {} with reflection point at {})'.format(i + 1, dict_for_image_storage['1-2-DP'][i + 1][2], dict_for_image_storage['1-2-DP'][i + 1][3]))\n",
    "    ax.set_xlabel('X (nm)')  # Adjust the label according to your data unit\n",
    "    ax.set_ylabel('Y (nm)')  # Adjust the label according to your data unit\n",
    "    circle_points = 100\n",
    "    radius_in_nm = dict_for_image_storage['1-2-DP'][i + 1][4]*scale_factor  # Radius in pixel\n",
    "    \n",
    "    center_x, center_y = [coord * scale_factor for coord in dict_for_image_storage['1-2-DP'][i + 1][3]]\n",
    "    center_x += image_width / 2\n",
    "    center_y = image_width / 2 - center_y\n",
    "    \n",
    "    for angle in range(0, 360, 360 // circle_points):\n",
    "        x = center_x - radius_in_nm * cos(deg2rad(angle))\n",
    "        y = center_y + radius_in_nm * sin(deg2rad(angle))\n",
    "        ax.plot(x, y, marker='o', markersize=1, color='blue')\n",
    "\n",
    "plt.tight_layout()  # Adjust spacing between subplots for better visualization\n",
    "plt.savefig('All_DPs.tif')  # Save the plot as an image file\n",
    "plt.show()"
   ]
  },
  {
   "cell_type": "code",
   "execution_count": 418,
   "id": "7c8c9963",
   "metadata": {},
   "outputs": [
    {
     "data": {
      "text/plain": [
       "12389.153"
      ]
     },
     "execution_count": 418,
     "metadata": {},
     "output_type": "execute_result"
    }
   ],
   "source": []
  }
 ],
 "metadata": {
  "kernelspec": {
   "display_name": "Python 3",
   "language": "python",
   "name": "python3"
  },
  "language_info": {
   "codemirror_mode": {
    "name": "ipython",
    "version": 3
   },
   "file_extension": ".py",
   "mimetype": "text/x-python",
   "name": "python",
   "nbconvert_exporter": "python",
   "pygments_lexer": "ipython3",
   "version": "3.7.10"
  }
 },
 "nbformat": 4,
 "nbformat_minor": 5
}
