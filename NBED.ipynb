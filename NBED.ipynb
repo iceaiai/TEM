{
 "cells": [
  {
   "cell_type": "code",
   "execution_count": 14,
   "id": "94801016",
   "metadata": {},
   "outputs": [
    {
     "name": "stderr",
     "output_type": "stream",
     "text": [
      "WARNING:silx.opencl.common:Unable to import pyOpenCl. Please install it from: https://pypi.org/project/pyopencl\n"
     ]
    }
   ],
   "source": [
    "#%matplotlib nbagg\n",
    "#%matplotlib notebook\n",
    "import matplotlib.pyplot as plt \n",
    "%matplotlib qt\n",
    "import numpy as np\n",
    "import pyxem as pxm\n",
    "import hyperspy.api as hs\n",
    "from pyxem.libraries.calibration_library import CalibrationDataLibrary\n",
    "from pyxem.generators.calibration_generator import CalibrationGenerator\n",
    "#%matplotlib inline"
   ]
  },
  {
   "cell_type": "code",
   "execution_count": 15,
   "id": "12fdc554",
   "metadata": {},
   "outputs": [],
   "source": [
    "s1=hs.load('STEM SI.dm4')"
   ]
  },
  {
   "cell_type": "code",
   "execution_count": 16,
   "id": "16422d4b",
   "metadata": {},
   "outputs": [],
   "source": [
    "s=s1[2]"
   ]
  },
  {
   "cell_type": "code",
   "execution_count": 17,
   "id": "59aa1965",
   "metadata": {},
   "outputs": [
    {
     "name": "stdout",
     "output_type": "stream",
     "text": [
      "Parent Folder Number: 1\n",
      "Sub-Folder Number: 4\n"
     ]
    }
   ],
   "source": [
    "import os\n",
    "import re\n",
    "\n",
    "def extract_folder_numbers():\n",
    "    # Get the current working directory\n",
    "    current_directory = os.getcwd()\n",
    "\n",
    "    # Extract the parent and sub-folder names from the path\n",
    "    parent_folder_name = os.path.basename(os.path.dirname(current_directory))\n",
    "    sub_folder_name = os.path.basename(current_directory)\n",
    "\n",
    "    # Use regular expressions to extract numbers from folder names\n",
    "    parent_number = re.search(r'(\\d+)', parent_folder_name)\n",
    "    sub_number = re.search(r'\\((\\d+)\\)', sub_folder_name)\n",
    "\n",
    "    if parent_number and sub_number:\n",
    "        parent_number = parent_number.group(1)\n",
    "        sub_number = sub_number.group(1)\n",
    "        print(\"Parent Folder Number:\", parent_number)  # Output: 1\n",
    "        print(\"Sub-Folder Number:\", sub_number)        # Output: 4\n",
    "        return int(parent_number), int(sub_number)\n",
    "    else:\n",
    "        print(\"Number not found in folder names.\")\n",
    "        return None, None\n",
    "\n",
    "sample_name, sub_folder = extract_folder_numbers()"
   ]
  },
  {
   "cell_type": "code",
   "execution_count": 18,
   "id": "a4184765",
   "metadata": {},
   "outputs": [],
   "source": [
    "s.set_signal_type('electron_diffraction')"
   ]
  },
  {
   "cell_type": "code",
   "execution_count": 34,
   "id": "982b2934",
   "metadata": {},
   "outputs": [],
   "source": [
    "s.plot() #please move to the ROI in the navigation image"
   ]
  },
  {
   "cell_type": "code",
   "execution_count": 35,
   "id": "0aa1e3d3",
   "metadata": {},
   "outputs": [],
   "source": [
    "roi = hs.roi.CircleROI(cx=-2.6,cy=-1.13, r_inner=0, r=0.5) # mask on specific reflection point"
   ]
  },
  {
   "cell_type": "code",
   "execution_count": 36,
   "id": "ad0d715f",
   "metadata": {},
   "outputs": [
    {
     "data": {
      "application/vnd.jupyter.widget-view+json": {
       "model_id": "58ae441d6860473cbb6868b7198778b5",
       "version_major": 2,
       "version_minor": 0
      },
      "text/plain": [
       "VBox(children=(HBox(children=(FloatText(value=-2.6, description='x'), FloatText(value=-1.13, description='y'))…"
      ]
     },
     "metadata": {},
     "output_type": "display_data"
    }
   ],
   "source": [
    "roi.gui() # after run this code, drag the ROI to the flection point"
   ]
  },
  {
   "cell_type": "code",
   "execution_count": 37,
   "id": "87bc977d",
   "metadata": {},
   "outputs": [
    {
     "data": {
      "application/vnd.jupyter.widget-view+json": {
       "model_id": "",
       "version_major": 2,
       "version_minor": 0
      },
      "text/plain": [
       "VBox(children=(FloatText(value=0.0, description='Vmin', disabled=True), FloatText(value=0.0, description='Vmax…"
      ]
     },
     "metadata": {},
     "output_type": "display_data"
    },
    {
     "name": "stderr",
     "output_type": "stream",
     "text": [
      "Traceback (most recent call last):\n",
      "  File \"C:\\software\\Anaconda\\lib\\site-packages\\matplotlib\\cbook\\__init__.py\", line 270, in process\n",
      "    func(*args, **kwargs)\n",
      "  File \"C:\\software\\Anaconda\\lib\\site-packages\\hyperspy\\drawing\\image.py\", line 619, in on_key_press\n",
      "    self.gui_adjust_contrast()\n",
      "  File \"C:\\software\\Anaconda\\lib\\site-packages\\hyperspy\\drawing\\image.py\", line 591, in gui_adjust_contrast\n",
      "    return ceditor.gui(display=display, toolkit=toolkit)\n",
      "  File \"C:\\software\\Anaconda\\lib\\site-packages\\hyperspy\\ui_registry.py\", line 164, in pg\n",
      "    toolkit=toolkit, **kwargs)\n",
      "  File \"C:\\software\\Anaconda\\lib\\site-packages\\hyperspy\\ui_registry.py\", line 138, in get_gui\n",
      "    thisw = f(obj=self, display=display, **kwargs)\n",
      "  File \"C:\\software\\Anaconda\\lib\\site-packages\\hyperspy_gui_traitsui\\utils.py\", line 9, in wrapper\n",
      "    obj, kwargs = f(*args, **kwargs)\n",
      "  File \"C:\\software\\Anaconda\\lib\\site-packages\\hyperspy_gui_traitsui\\tools.py\", line 287, in image_constast_editor_traitsui\n",
      "    format='%.2f')),\n",
      "  File \"C:\\software\\Anaconda\\lib\\site-packages\\traitsui\\editor_factory.py\", line 81, in __init__\n",
      "    HasPrivateTraits.__init__(self, **traits)\n",
      "traits.trait_errors.TraitError: Cannot set the undefined 'format' attribute of a 'BoundsEditor' object.\n"
     ]
    },
    {
     "ename": "AttributeError",
     "evalue": "'NoneType' object has no attribute 'canvas'",
     "output_type": "error",
     "traceback": [
      "\u001b[1;31m---------------------------------------------------------------------------\u001b[0m",
      "\u001b[1;31mAttributeError\u001b[0m                            Traceback (most recent call last)",
      "\u001b[1;32mC:\\software\\Anaconda\\lib\\site-packages\\hyperspy_gui_ipywidgets\\tools.py\u001b[0m in \u001b[0;36mon_apply_clicked\u001b[1;34m(b)\u001b[0m\n\u001b[0;32m    566\u001b[0m \u001b[1;33m\u001b[0m\u001b[0m\n\u001b[0;32m    567\u001b[0m     \u001b[1;32mdef\u001b[0m \u001b[0mon_apply_clicked\u001b[0m\u001b[1;33m(\u001b[0m\u001b[0mb\u001b[0m\u001b[1;33m)\u001b[0m\u001b[1;33m:\u001b[0m\u001b[1;33m\u001b[0m\u001b[1;33m\u001b[0m\u001b[0m\n\u001b[1;32m--> 568\u001b[1;33m         \u001b[0mobj\u001b[0m\u001b[1;33m.\u001b[0m\u001b[0mapply\u001b[0m\u001b[1;33m(\u001b[0m\u001b[1;33m)\u001b[0m\u001b[1;33m\u001b[0m\u001b[1;33m\u001b[0m\u001b[0m\n\u001b[0m\u001b[0;32m    569\u001b[0m     \u001b[0mapply\u001b[0m\u001b[1;33m.\u001b[0m\u001b[0mon_click\u001b[0m\u001b[1;33m(\u001b[0m\u001b[0mon_apply_clicked\u001b[0m\u001b[1;33m)\u001b[0m\u001b[1;33m\u001b[0m\u001b[1;33m\u001b[0m\u001b[0m\n\u001b[0;32m    570\u001b[0m \u001b[1;33m\u001b[0m\u001b[0m\n",
      "\u001b[1;32mC:\\software\\Anaconda\\lib\\site-packages\\hyperspy\\signal_tools.py\u001b[0m in \u001b[0;36mapply\u001b[1;34m(self)\u001b[0m\n\u001b[0;32m   1039\u001b[0m             \u001b[0mself\u001b[0m\u001b[1;33m.\u001b[0m\u001b[0mspan_selector_switch\u001b[0m\u001b[1;33m(\u001b[0m\u001b[1;32mFalse\u001b[0m\u001b[1;33m)\u001b[0m\u001b[1;33m\u001b[0m\u001b[1;33m\u001b[0m\u001b[0m\n\u001b[0;32m   1040\u001b[0m             \u001b[0mself\u001b[0m\u001b[1;33m.\u001b[0m\u001b[0mspan_selector_switch\u001b[0m\u001b[1;33m(\u001b[0m\u001b[1;32mTrue\u001b[0m\u001b[1;33m)\u001b[0m\u001b[1;33m\u001b[0m\u001b[1;33m\u001b[0m\u001b[0m\n\u001b[1;32m-> 1041\u001b[1;33m             \u001b[0mself\u001b[0m\u001b[1;33m.\u001b[0m\u001b[0m_reset\u001b[0m\u001b[1;33m(\u001b[0m\u001b[0mauto\u001b[0m\u001b[1;33m=\u001b[0m\u001b[1;32mFalse\u001b[0m\u001b[1;33m,\u001b[0m \u001b[0mindices_changed\u001b[0m\u001b[1;33m=\u001b[0m\u001b[1;32mFalse\u001b[0m\u001b[1;33m)\u001b[0m\u001b[1;33m\u001b[0m\u001b[1;33m\u001b[0m\u001b[0m\n\u001b[0m\u001b[0;32m   1042\u001b[0m \u001b[1;33m\u001b[0m\u001b[0m\n\u001b[0;32m   1043\u001b[0m     \u001b[1;32mdef\u001b[0m \u001b[0mreset\u001b[0m\u001b[1;33m(\u001b[0m\u001b[0mself\u001b[0m\u001b[1;33m)\u001b[0m\u001b[1;33m:\u001b[0m\u001b[1;33m\u001b[0m\u001b[1;33m\u001b[0m\u001b[0m\n",
      "\u001b[1;32mC:\\software\\Anaconda\\lib\\site-packages\\hyperspy\\signal_tools.py\u001b[0m in \u001b[0;36m_reset\u001b[1;34m(self, auto, indices_changed)\u001b[0m\n\u001b[0;32m   1100\u001b[0m                               vmin=vmin, vmax=vmax)\n\u001b[0;32m   1101\u001b[0m \u001b[1;33m\u001b[0m\u001b[0m\n\u001b[1;32m-> 1102\u001b[1;33m         \u001b[0mself\u001b[0m\u001b[1;33m.\u001b[0m\u001b[0mupdate_histogram\u001b[0m\u001b[1;33m(\u001b[0m\u001b[1;33m)\u001b[0m\u001b[1;33m\u001b[0m\u001b[1;33m\u001b[0m\u001b[0m\n\u001b[0m\u001b[0;32m   1103\u001b[0m         \u001b[0mself\u001b[0m\u001b[1;33m.\u001b[0m\u001b[0mupdate_span_selector_traits\u001b[0m\u001b[1;33m(\u001b[0m\u001b[1;33m)\u001b[0m\u001b[1;33m\u001b[0m\u001b[1;33m\u001b[0m\u001b[0m\n\u001b[0;32m   1104\u001b[0m \u001b[1;33m\u001b[0m\u001b[0m\n",
      "\u001b[1;32mC:\\software\\Anaconda\\lib\\site-packages\\hyperspy\\signal_tools.py\u001b[0m in \u001b[0;36mupdate_histogram\u001b[1;34m(self)\u001b[0m\n\u001b[0;32m    988\u001b[0m         \u001b[1;32mif\u001b[0m \u001b[0mself\u001b[0m\u001b[1;33m.\u001b[0m\u001b[0mhist_data\u001b[0m\u001b[1;33m.\u001b[0m\u001b[0mmax\u001b[0m\u001b[1;33m(\u001b[0m\u001b[1;33m)\u001b[0m \u001b[1;33m!=\u001b[0m \u001b[1;36m0\u001b[0m\u001b[1;33m:\u001b[0m\u001b[1;33m\u001b[0m\u001b[1;33m\u001b[0m\u001b[0m\n\u001b[0;32m    989\u001b[0m             \u001b[0mself\u001b[0m\u001b[1;33m.\u001b[0m\u001b[0max\u001b[0m\u001b[1;33m.\u001b[0m\u001b[0mset_ylim\u001b[0m\u001b[1;33m(\u001b[0m\u001b[1;36m0\u001b[0m\u001b[1;33m,\u001b[0m \u001b[0mself\u001b[0m\u001b[1;33m.\u001b[0m\u001b[0mhist_data\u001b[0m\u001b[1;33m.\u001b[0m\u001b[0mmax\u001b[0m\u001b[1;33m(\u001b[0m\u001b[1;33m)\u001b[0m\u001b[1;33m)\u001b[0m\u001b[1;33m\u001b[0m\u001b[1;33m\u001b[0m\u001b[0m\n\u001b[1;32m--> 990\u001b[1;33m         \u001b[0mself\u001b[0m\u001b[1;33m.\u001b[0m\u001b[0mupdate_line\u001b[0m\u001b[1;33m(\u001b[0m\u001b[1;33m)\u001b[0m\u001b[1;33m\u001b[0m\u001b[1;33m\u001b[0m\u001b[0m\n\u001b[0m\u001b[0;32m    991\u001b[0m         \u001b[0mself\u001b[0m\u001b[1;33m.\u001b[0m\u001b[0max\u001b[0m\u001b[1;33m.\u001b[0m\u001b[0mfigure\u001b[0m\u001b[1;33m.\u001b[0m\u001b[0mcanvas\u001b[0m\u001b[1;33m.\u001b[0m\u001b[0mdraw_idle\u001b[0m\u001b[1;33m(\u001b[0m\u001b[1;33m)\u001b[0m\u001b[1;33m\u001b[0m\u001b[1;33m\u001b[0m\u001b[0m\n\u001b[0;32m    992\u001b[0m \u001b[1;33m\u001b[0m\u001b[0m\n",
      "\u001b[1;32mC:\\software\\Anaconda\\lib\\site-packages\\hyperspy\\signal_tools.py\u001b[0m in \u001b[0;36mupdate_line\u001b[1;34m(self)\u001b[0m\n\u001b[0;32m   1027\u001b[0m             \u001b[1;32mreturn\u001b[0m\u001b[1;33m\u001b[0m\u001b[1;33m\u001b[0m\u001b[0m\n\u001b[0;32m   1028\u001b[0m         \u001b[0mself\u001b[0m\u001b[1;33m.\u001b[0m\u001b[0mline\u001b[0m\u001b[1;33m.\u001b[0m\u001b[0mset_data\u001b[0m\u001b[1;33m(\u001b[0m\u001b[1;33m*\u001b[0m\u001b[0mself\u001b[0m\u001b[1;33m.\u001b[0m\u001b[0m_get_line\u001b[0m\u001b[1;33m(\u001b[0m\u001b[1;33m)\u001b[0m\u001b[1;33m)\u001b[0m\u001b[1;33m\u001b[0m\u001b[1;33m\u001b[0m\u001b[0m\n\u001b[1;32m-> 1029\u001b[1;33m         \u001b[0mself\u001b[0m\u001b[1;33m.\u001b[0m\u001b[0mhspy_fig\u001b[0m\u001b[1;33m.\u001b[0m\u001b[0mrender_figure\u001b[0m\u001b[1;33m(\u001b[0m\u001b[1;33m)\u001b[0m\u001b[1;33m\u001b[0m\u001b[1;33m\u001b[0m\u001b[0m\n\u001b[0m\u001b[0;32m   1030\u001b[0m \u001b[1;33m\u001b[0m\u001b[0m\n\u001b[0;32m   1031\u001b[0m     \u001b[1;32mdef\u001b[0m \u001b[0mapply\u001b[0m\u001b[1;33m(\u001b[0m\u001b[0mself\u001b[0m\u001b[1;33m)\u001b[0m\u001b[1;33m:\u001b[0m\u001b[1;33m\u001b[0m\u001b[1;33m\u001b[0m\u001b[0m\n",
      "\u001b[1;32mC:\\software\\Anaconda\\lib\\site-packages\\hyperspy\\drawing\\figure.py\u001b[0m in \u001b[0;36mrender_figure\u001b[1;34m(self)\u001b[0m\n\u001b[0;32m    138\u001b[0m \u001b[1;33m\u001b[0m\u001b[0m\n\u001b[0;32m    139\u001b[0m     \u001b[1;32mdef\u001b[0m \u001b[0mrender_figure\u001b[0m\u001b[1;33m(\u001b[0m\u001b[0mself\u001b[0m\u001b[1;33m)\u001b[0m\u001b[1;33m:\u001b[0m\u001b[1;33m\u001b[0m\u001b[1;33m\u001b[0m\u001b[0m\n\u001b[1;32m--> 140\u001b[1;33m         \u001b[1;32mif\u001b[0m \u001b[0mself\u001b[0m\u001b[1;33m.\u001b[0m\u001b[0mfigure\u001b[0m\u001b[1;33m.\u001b[0m\u001b[0mcanvas\u001b[0m\u001b[1;33m.\u001b[0m\u001b[0msupports_blit\u001b[0m \u001b[1;32mand\u001b[0m \u001b[0mself\u001b[0m\u001b[1;33m.\u001b[0m\u001b[0m_background\u001b[0m \u001b[1;32mis\u001b[0m \u001b[1;32mnot\u001b[0m \u001b[1;32mNone\u001b[0m\u001b[1;33m:\u001b[0m\u001b[1;33m\u001b[0m\u001b[1;33m\u001b[0m\u001b[0m\n\u001b[0m\u001b[0;32m    141\u001b[0m             \u001b[0mself\u001b[0m\u001b[1;33m.\u001b[0m\u001b[0m_update_animated\u001b[0m\u001b[1;33m(\u001b[0m\u001b[1;33m)\u001b[0m\u001b[1;33m\u001b[0m\u001b[1;33m\u001b[0m\u001b[0m\n\u001b[0;32m    142\u001b[0m         \u001b[1;32melse\u001b[0m\u001b[1;33m:\u001b[0m\u001b[1;33m\u001b[0m\u001b[1;33m\u001b[0m\u001b[0m\n",
      "\u001b[1;31mAttributeError\u001b[0m: 'NoneType' object has no attribute 'canvas'"
     ]
    }
   ],
   "source": [
    "s.plot_integrated_intensity(roi)"
   ]
  },
  {
   "cell_type": "code",
   "execution_count": 121,
   "id": "2afa7567",
   "metadata": {},
   "outputs": [],
   "source": [
    "SI_image_coord=(228,7) # your input  # (x,y):the coordinations of picked spot in the SI image. Read from Diffraction SI Signal\n",
    "x=roi[0]\n",
    "y=roi[1]  \n",
    "\n",
    "Center_of_reflection=(x,y) \n",
    "Center_of_reflection_in_pixel= (Center_of_reflection[0]/s.axes_manager[3].scale,Center_of_reflection[1]/s.axes_manager[3].scale) # # (x,y):the coordinations of the picked reflection point in the Diffraction pattern, copied from roi.gui()\n",
    "DP_image=s.inav[SI_image_coord] #retrieve DP data\n",
    "DP_image_data=DP_image.data\n",
    "radius=0.5 # your input \n",
    "radius_in_pixel=radius/s.axes_manager[3].scale"
   ]
  },
  {
   "cell_type": "code",
   "execution_count": 122,
   "id": "6c701924",
   "metadata": {},
   "outputs": [],
   "source": [
    "roi2 = hs.roi.CircleROI(cx=Center_of_reflection[0],cy=Center_of_reflection[1], r_inner=0, r=radius) # this is the same as roi, but for selecting VDF image"
   ]
  },
  {
   "cell_type": "code",
   "execution_count": 123,
   "id": "6ad98cad",
   "metadata": {},
   "outputs": [],
   "source": [
    "vdf = s.get_integrated_intensity(roi2)\n",
    "vdf.plot()\n",
    "vdf_data=vdf.data.data\n",
    "vdf_pixel_to_nm=s.axes_manager[1].scale\n",
    "DP_pixel_to_nm=s.axes_manager[3].scale"
   ]
  },
  {
   "cell_type": "code",
   "execution_count": 124,
   "id": "3b72c53c",
   "metadata": {},
   "outputs": [
    {
     "name": "stdout",
     "output_type": "stream",
     "text": [
      "current image number 9\n"
     ]
    }
   ],
   "source": [
    "import os\n",
    "\n",
    "# Check if the file containing image_num exists\n",
    "if os.path.exists(\"image_num.txt\"):\n",
    "    # If it exists, read the value from the file\n",
    "    with open(\"image_num.txt\", \"r\") as file:\n",
    "        image_num = int(file.read())\n",
    "else:\n",
    "    # If it doesn't exist, initialize image_num to 0\n",
    "    image_num = 0\n",
    "\n",
    "# Increment image_num\n",
    "image_num += 1\n",
    "\n",
    "# Write the updated value back to the file\n",
    "with open(\"image_num.txt\", \"w\") as file:\n",
    "    file.write(str(image_num))\n",
    "\n",
    "# Print the updated value of image_num\n",
    "print('current image number',image_num)"
   ]
  },
  {
   "cell_type": "code",
   "execution_count": 125,
   "id": "664691d2",
   "metadata": {},
   "outputs": [
    {
     "data": {
      "text/plain": [
       "9"
      ]
     },
     "execution_count": 125,
     "metadata": {},
     "output_type": "execute_result"
    }
   ],
   "source": [
    "#image_num=1#if image imagenum not right modify here\n",
    "image_num"
   ]
  },
  {
   "cell_type": "code",
   "execution_count": 126,
   "id": "cfef44a2",
   "metadata": {},
   "outputs": [],
   "source": [
    "# Check if the dictionaries do not exist in the global scope and create them if necessary\n",
    "if 'manual_measured_size' not in globals():\n",
    "    manual_measured_size = {}\n",
    "\n",
    "if 'semi_manual_measured_size' not in globals():\n",
    "    semi_manual_measured_size = {}\n",
    "    \n",
    "if 'coord_in_SI' not in locals() or 'dict_for_image_storage' not in globals():\n",
    "    coord_in_SI=[]\n",
    "coord_in_SI.append(SI_image_coord) # Store the picked spot from SI image.\n",
    "\n",
    "# Check if dict_for_image_storage exists, if not, initialize it as an empty dictionary\n",
    "if 'dict_for_image_storage' not in locals() or 'dict_for_image_storage' not in globals():\n",
    "    dict_for_image_storage = {}\n",
    "VDF_file_name = '1-{}-VDF'.format(sub_folder)\n",
    "DP_file_name = '1-{}-DP'.format(sub_folder)\n",
    "    \n",
    "# Check if '1-2-VDF' and '1-2-DP' keys exist in dict_for_image_storage\n",
    "if VDF_file_name not in dict_for_image_storage:\n",
    "    dict_for_image_storage[VDF_file_name] = {}\n",
    "if DP_file_name not in dict_for_image_storage:\n",
    "    dict_for_image_storage[DP_file_name] = {}\n",
    "\n",
    "# Assuming vdf_data, DP_image_data, SI_image_coord, Center_of_reflection_in_pixel, and radius_in_pixel are defined elsewhere\n",
    "# Update data in the dictionary\n",
    "dict_for_image_storage[VDF_file_name][image_num] = (vdf_data, vdf_pixel_to_nm)  # (image#, vdf data)\n",
    "dict_for_image_storage[DP_file_name][image_num] = (DP_image_data, DP_pixel_to_nm, SI_image_coord, Center_of_reflection_in_pixel, radius_in_pixel)\n",
    "\n",
    "# Save images in text files\n",
    "np.savetxt('1-{}-{}-VDF.txt'.format(sub_folder,image_num), dict_for_image_storage[VDF_file_name][image_num][0])  # Save VDF data in a text file\n",
    "np.savetxt('1-{}-{}-DP.txt'.format(sub_folder,image_num), dict_for_image_storage[DP_file_name][image_num][0])  # Save DP image data in a text file                        \n"
   ]
  },
  {
   "cell_type": "code",
   "execution_count": null,
   "id": "27b390c3",
   "metadata": {},
   "outputs": [],
   "source": [
    "from math import *\n",
    "\n",
    "# Assuming dict_for_image_storage, image_num, vdf_pixel_to_nm, DP_pixel_to_nm, vdf_data, and DP_image_data are defined\n",
    "\n",
    "# Plot VDF_data as a grayscale image without a scale bar\n",
    "vdf_data_with_scale = dict_for_image_storage[VDF_file_name][image_num][0]\n",
    "vdf_scale_factor = vdf_pixel_to_nm  # Adjust the scale based on vdf_pixel_to_nm\n",
    "plt.figure(figsize=(8, 6))\n",
    "plt.imshow(vdf_data_with_scale, cmap='gray', extent=[0, vdf_data_with_scale.shape[1] * vdf_scale_factor, 0, vdf_data_with_scale.shape[0] * vdf_scale_factor])\n",
    "plt.title('VDF Data (Image {})'.format(image_num))\n",
    "plt.xlabel('X (nm)')  # X-axis label indicating nanometers\n",
    "plt.ylabel('Y (nm)')  # Y-axis label indicating nanometers\n",
    "plt.savefig('1-{}-{}-VDF.tif'.format(sub_folder,image_num))\n",
    "\n",
    "# Plot DP_image_data as a grayscale image with a scale bar (10/nm) using DP_pixel_to_nm\n",
    "DP_data_with_scale = dict_for_image_storage[DP_file_name ][image_num][0]\n",
    "DP_scale_factor = DP_pixel_to_nm  # Adjust the scale based on DP_pixel_to_nm\n",
    "plt.figure(figsize=(8, 6))\n",
    "plt.imshow(DP_data_with_scale, cmap='gray', extent=[0, DP_data_with_scale.shape[1] * DP_scale_factor, 0, DP_data_with_scale.shape[0] * DP_scale_factor], vmin=0, vmax=1000)  # Assuming 0-1000 range for grayscale\n",
    "plt.title('DP Image Data (Image {})'.format(image_num))\n",
    "plt.xlabel('X (/nm)')  # X-axis label indicating nanometers\n",
    "plt.ylabel('Y (/nm)')  # Y-axis label indicating nanometers\n",
    "\n",
    "\n",
    "def deg2rad(deg):\n",
    "    return deg * pi / 180\n",
    "\n",
    "\n",
    "image_width, image_height = DP_data_with_scale.shape[1]*s.axes_manager[3].scale, DP_data_with_scale.shape[0]*s.axes_manager[3].scale\n",
    "\n",
    "circle_points = 100\n",
    "radius_in_nm = radius # Radius in nanometers\n",
    "center_x,center_y= Center_of_reflection\n",
    "center_x += image_width / 2\n",
    "center_y =image_width / 2-center_y\n",
    "\n",
    "\n",
    "for angle in range(0, 360, 360 // circle_points):\n",
    "    x = center_x - radius_in_nm * cos(deg2rad(angle))\n",
    "    y = center_y + radius_in_nm * sin(deg2rad(angle))\n",
    "    plt.plot(x, y, marker='o', markersize=1, color='blue') \n",
    "\n",
    "plt.show()\n",
    "plt.savefig('1-{}-{}-DP.tif'.format(sub_folder,image_num))"
   ]
  },
  {
   "cell_type": "code",
   "execution_count": 127,
   "id": "fa39f456",
   "metadata": {},
   "outputs": [
    {
     "name": "stdout",
     "output_type": "stream",
     "text": [
      "Final Adjusted Lengths:\n",
      "Measured Length: 19.87 nm\n",
      "Measured Length: 18.57 nm\n"
     ]
    }
   ],
   "source": [
    "#Measure the linewidth mannually\n",
    "from matplotlib.widgets import SpanSelector\n",
    "if 'manual_coord' not in globals():\n",
    "    manual_coord= {}\n",
    "\n",
    "# Assuming dict_for_image_storage, image_num, vdf_pixel_to_nm, and vdf_data are defined\n",
    "vdf_data = dict_for_image_storage[VDF_file_name ][image_num][0]\n",
    "vdf_scale_factor = vdf_pixel_to_nm  # Adjust the scale based on vdf_pixel_to_nm\n",
    "\n",
    "# Lists to store line coordinates and measured lengths\n",
    "line_coords = []\n",
    "line_lengths = []\n",
    "\n",
    "# Function to be called when a line is selected\n",
    "def onselect(xmin, xmax):\n",
    "    x_coords = [xmin, xmax]\n",
    "    line_coords.append(x_coords)\n",
    "    length_nm = (xmax - xmin)\n",
    "    line_lengths.append(length_nm)\n",
    "    print(f'Measured Length: {length_nm:.2f} nm')\n",
    "    plt.axhline(y=0, color='red', linewidth=2)  # Draw a red line after each measurement\n",
    "    plt.draw()\n",
    "\n",
    "fig, ax = plt.subplots(figsize=(6, 6))\n",
    "ax.imshow(vdf_data, cmap='gray', extent=[0, vdf_data.shape[1] * vdf_scale_factor, 0, vdf_data.shape[0] * vdf_scale_factor])\n",
    "plt.title('VDF Data (Image {})'.format(image_num))\n",
    "plt.xlabel('X (nm)')  # X-axis label indicating nanometers\n",
    "plt.ylabel('Y (nm)')  # Y-axis label indicating nanometers\n",
    "\n",
    "# SpanSelector to draw lines interactively\n",
    "span = SpanSelector(ax, onselect, 'horizontal', useblit=True, rectprops=dict(alpha=0.5, facecolor='red'))\n",
    "color_list=['red','green','blue','yellow','white']\n",
    "plt.show()\n",
    "\n",
    "# Print the final adjusted lengths\n",
    "print('Final Adjusted Lengths:')\n",
    "for i, length in enumerate(line_lengths):\n",
    "    print(f'Line {i + 1}: {length:.2f} nm')"
   ]
  },
  {
   "cell_type": "code",
   "execution_count": 128,
   "id": "7581c415",
   "metadata": {},
   "outputs": [],
   "source": [
    "#run the following script to save the figure with measurements and the results\n",
    "fig, ax = plt.subplots(figsize=(6, 6))\n",
    "ax.imshow(vdf_data, cmap='gray', extent=[0, vdf_data.shape[1] * vdf_scale_factor, 0, vdf_data.shape[0] * vdf_scale_factor])\n",
    "plt.title('VDF Data (Image {})'.format(image_num))\n",
    "plt.xlabel('X (nm)')  # X-axis label indicating nanometers\n",
    "plt.ylabel('Y (nm)')\n",
    "color_list=['red','green','blue','yellow','white']\n",
    "plot_position=[-30,vdf_data.shape[0]* vdf_scale_factor+20]\n",
    "manual_coord[image_num]=np.array([line_coords])\n",
    "for i in range(len(line_coords)):\n",
    "    plt.axvline(x=line_coords[i][0], color=color_list[i], linestyle='--', linewidth=2)\n",
    "    plt.axvline(x=line_coords[i][1], color=color_list[i], linestyle='--', linewidth=2)\n",
    "    particle_num=i+1\n",
    "    plt.text(line_coords[i][0], plot_position[i%2],'particle %s \\n %s nm'%(particle_num,round(line_lengths[i],1)), fontsize=10, ha='center', va='center',c=color_list[i])\n",
    "plt.show()\n",
    "plt.savefig('1-{}-{}-VDF-{}nm_manualy.tif'.format(sub_folder,image_num, line_lengths))\n",
    "line_lengths_array = np.array(line_lengths)\n",
    "line_lengths_round=np.round(line_lengths_array,1)\n",
    "np.savetxt('1-{}-{}-VDF-{}nm-mannauly.txt'.format(sub_folder,image_num, line_lengths_round),line_lengths_round)\n",
    "manual_measured_size[image_num]=line_lengths"
   ]
  },
  {
   "cell_type": "code",
   "execution_count": 129,
   "id": "01d56949",
   "metadata": {},
   "outputs": [
    {
     "name": "stdout",
     "output_type": "stream",
     "text": [
      "mannual_measured_size: {1: [13.074837312583], 2: [23.534707162649397], 3: [10.982863342569715], 4: [13.336334058834666, 11.505856835073047, 10.982863342569715, 13.074837312582986], 5: [17.258785252609556], 6: [27.89298626684368], 7: [16.474295013854658], 8: [10.982863342569658], 9: [19.873752715126216, 18.56626898386787]} \n",
      "mannual_coordination: {1: array([[[26.93416486, 40.00900218]]]), 2: array([[[53.60683298, 77.14154014]]]), 3: array([[[141.73123647, 152.71409981]]]), 4: array([[[152.97559656, 166.31193062],\n",
      "        [170.49587856, 182.00173539],\n",
      "        [188.53915405, 199.52201739],\n",
      "        [202.65997835, 215.73481566]]]), 5: array([[[245.28394798, 262.54273324]]]), 6: array([[[251.0368764 , 278.92986267]]]), 7: array([[[359.29652935, 375.77082436]]]), 8: array([[[367.40292848, 378.38579183]]]), 9: array([[[468.07917579, 487.95292851],\n",
      "        [492.92136668, 511.48763567]]])}\n"
     ]
    }
   ],
   "source": [
    "print('mannual_measured_size:',manual_measured_size,'\\nmannual_coordination:',manual_coord)"
   ]
  },
  {
   "cell_type": "code",
   "execution_count": 56,
   "id": "f4e50a63",
   "metadata": {},
   "outputs": [
    {
     "name": "stdout",
     "output_type": "stream",
     "text": [
      "Measured Length: [12.3526082] nm\n"
     ]
    }
   ],
   "source": [
    "#Semi-manual\n",
    "\n",
    "\n",
    "# Define Region of Interest (ROI)\n",
    "x_prime=7.5 #your input\n",
    "y_prime=17. #your input\n",
    "import numpy as np\n",
    "import matplotlib.pyplot as plt\n",
    "if 'semi_manual_coord' not in globals():\n",
    "    semi_manual_coord= {}\n",
    "\n",
    "vdf_data_with_scale = dict_for_image_storage[VDF_file_name][image_num][0]\n",
    "vdf_scale_factor = vdf_pixel_to_nm  # Adjust the scale based on vdf_pixel_to_nm\n",
    "plt.figure(figsize=(6, 6))\n",
    "plt.imshow(vdf_data_with_scale, cmap='gray', extent=[0, vdf_data_with_scale.shape[1] * vdf_scale_factor, 0, vdf_data_with_scale.shape[0] * vdf_scale_factor])\n",
    "plt.title('VDF Data (Image {})'.format(image_num))\n",
    "plt.xlabel('X (nm)')  # X-axis label indicating nanometers\n",
    "plt.ylabel('Y (nm)')  # Y-axis label indicating nanometers\n",
    "\n",
    "\n",
    "# Define Region of Interest (ROI)\n",
    "x_prime=7 #your input\n",
    "y_prime=16. #your input\n",
    "\n",
    "number_start=round(x_prime/vdf_scale_factor)\n",
    "number_end=round(y_prime/vdf_scale_factor)\n",
    "\n",
    "threshold = 30000  # Threshold value for the signal\n",
    "\n",
    "\n",
    "roi_data = vdf_data[number_start:number_end,:]  # Extract ROI\n",
    "\n",
    "mid= round((y_prime-x_prime)/2/vdf_scale_factor)\n",
    "start_col=[]\n",
    "end_col = []\n",
    "start_Found=False\n",
    "\n",
    "for col in range(roi_data.shape[1]):\n",
    "    if roi_data[mid,col]>threshold and start_Found is False:\n",
    "        start_col.append(col)\n",
    "        start_Found=True\n",
    "    if roi_data[mid,col]<threshold and start_Found:\n",
    "        end_col.append(col)\n",
    "        start_Found=False\n",
    "if len(start_col)==(len(end_col)+1): #if start_col is larger than end_col\n",
    "    start_col.pop() #remove the last added one\n",
    "\n",
    "combined_cols = list(zip(start_col, end_col))\n",
    "\n",
    "combined_cols_array = np.array(combined_cols)\n",
    "semi_manual_coord[image_num]=combined_cols_array\n",
    "\n",
    "# Plot the VDF data\n",
    "plt.imshow(vdf_data, cmap='gray', extent=[0, vdf_data.shape[1], 0, vdf_data.shape[0]])\n",
    "plt.title('VDF Data (Image {})'.format(image_num))\n",
    "plt.xlabel('X (pixels)')\n",
    "plt.ylabel('Y (pixels)')\n",
    "\n",
    "# Draw the line on the plot\n",
    "color_list=['red','green','blue','yellow','white']\n",
    "plot_position=[-30,vdf_data.shape[0]* vdf_scale_factor+20]\n",
    "for i in range(len(start_col)):\n",
    "    if start_col is not None and end_col is not None:\n",
    "        plt.axvline(x=start_col[i], color=color_list[i], linestyle='--', linewidth=2)\n",
    "        plt.axvline(x=end_col[i], color=color_list[i], linestyle='--', linewidth=2)\n",
    "\n",
    "plt.show()\n",
    "start_col_array=np.array(start_col)\n",
    "end_col_array=np.array(end_col)\n",
    "measured_length = (end_col_array - start_col_array) * s.axes_manager[1].scale\n",
    "print('Measured Length:', measured_length, 'nm')\n",
    "\n",
    "# Save the plot\n",
    "plt.savefig('1-{}-{}-VDF-{}nm_semi_mannualy.tif'.format(sub_folder,image_num, np.round(measured_length,1)))\n",
    "np.savetxt('1-{}-{}-VDF-{}nm-semi_mannauly.txt'.format(sub_folder,image_num, np.round(measured_length,1)),measured_length)\n",
    "semi_manual_measured_size[image_num]=measured_length\n"
   ]
  },
  {
   "cell_type": "code",
   "execution_count": 163,
   "id": "a520be5d",
   "metadata": {},
   "outputs": [
    {
     "name": "stdout",
     "output_type": "stream",
     "text": [
      "semi_mannual_measured_size: {1: array([33.77815068]), 2: array([13.90865028]), 3: array([11.92170024, 17.88255036]), 4: array([17.88255036,  9.9347502 ]), 5: array([15.89560032, 13.90865028]), 6: array([9.9347502]), 7: array([31.79120064]), 8: array([21.85645044]), 9: array([9.9347502]), 10: array([33.77815068])} \n",
      "semi_mannual_coordination: {1: array([[ 4, 21]]), 2: array([[28, 35]]), 3: array([[51, 57],\n",
      "       [58, 67]]), 4: array([[71, 80],\n",
      "       [82, 87]]), 5: array([[101, 109],\n",
      "       [111, 118]]), 6: array([[156, 161]]), 7: array([[169, 185]]), 8: array([[201, 212]]), 9: array([[237, 242]]), 10: array([[241, 258]])}\n"
     ]
    }
   ],
   "source": [
    "print('semi_mannual_measured_size:',semi_mannual_measured_size,'\\nsemi_mannual_coordination:',semi_manual_coord)"
   ]
  },
  {
   "cell_type": "code",
   "execution_count": 180,
   "id": "a60f07b1",
   "metadata": {},
   "outputs": [],
   "source": [
    "#export the measured sizes from mannual or semi-mannual\n",
    "list_semi_mannual_measured_size=[]\n",
    "for i in range(len(semi_mannual_measured_size)):\n",
    "    list_semi_mannual_measured_size.append(semi_mannual_measured_size[i+1])\n",
    "\n",
    "def flatten(data):\n",
    "    flat_list = []\n",
    "    for item in data:\n",
    "        if isinstance(item, (int, float)):\n",
    "            flat_list.append(item)\n",
    "        elif isinstance(item, list):\n",
    "            flat_list.extend(flatten(item))\n",
    "        elif isinstance(item, np.ndarray):\n",
    "            flat_list.extend(item.tolist())\n",
    "    return flat_list\n",
    "\n",
    "flat_list_semi_mannual_measured_size = flatten(list_semi_mannual_measured_size)\n",
    "\n",
    "np.savetxt('Total semi_mannual_measured_size.txt',flat_list_semi_mannual_measured_size )\n",
    "\n",
    "list_mannual_measured_size=[]\n",
    "\n",
    "for i in range(len(mannual_measured_size)):\n",
    "    list_mannual_measured_size.append(mannual_measured_size[i+1])\n",
    "\n",
    "\n",
    "flat_list_mannual_measured_size = flatten(list_mannual_measured_size)\n",
    "np.savetxt('Total mannual_measured_size.txt',flat_list_mannual_measured_size )\n"
   ]
  },
  {
   "cell_type": "code",
   "execution_count": 131,
   "id": "fb0ea1dc",
   "metadata": {},
   "outputs": [],
   "source": [
    "#Save all the files # dicts\n",
    "import pickle\n",
    "\n",
    "\n",
    "dicts_to_save = {\n",
    "    'mannual_measured_size': manual_measured_size,\n",
    "    'semi_mannual_measured_size': semi_manual_measured_size,\n",
    "    'dict_for_image_storage': dict_for_image_storage,\n",
    "    'semi_manual_coord':semi_manual_coord,\n",
    "    'manual_coord': manual_coord\n",
    "}\n",
    "\n",
    "with open('saved_dicts.pkl', 'wb') as file:\n",
    "    pickle.dump(dicts_to_save, file)"
   ]
  },
  {
   "cell_type": "code",
   "execution_count": 280,
   "id": "99677ca5",
   "metadata": {},
   "outputs": [],
   "source": [
    "# Load the dictionary containing our data\n",
    "with open('saved_dicts.pkl', 'rb') as file:\n",
    "    loaded_dicts = pickle.load(file)\n",
    "\n",
    "# Access individual dictionaries using their variable names\n",
    "#mannual_measured_size = loaded_dicts['mannual_measured_size']\n",
    "#semi_mannual_measured_size = loaded_dicts['semi_mannual_measured_size']\n",
    "#dict_for_image_storage = loaded_dicts['dict_for_image_storage']\n"
   ]
  },
  {
   "cell_type": "code",
   "execution_count": 137,
   "id": "d38ab842",
   "metadata": {},
   "outputs": [],
   "source": [
    "#After all the measurements done. Plotting all the VDF images\n",
    "num_images = len(dict_for_image_storage[VDF_file_name])\n",
    "fig, axes = plt.subplots(num_images, 1, figsize=(6, 6*num_images))\n",
    "semi_mannual_measured_size_round = {k: round(v, 1) if not isinstance(v, np.ndarray) else np.round(v, 1) for k, v in semi_manual_measured_size.items()}\n",
    "mannual_measured_size_round = {k: [round(num, 1) for num in v] for k, v in manual_measured_size.items()}\n",
    "# Iterate through the dictionary and plot images vertically\n",
    "for i in range(1, num_images + 1):\n",
    "    data, scale_factor = dict_for_image_storage[VDF_file_name][i]\n",
    "    ax = axes[i - 1]  # Select the appropriate subplot\n",
    "    ax.imshow(data, cmap='gray', extent=[0, data.shape[1] * scale_factor, 0, data.shape[0] * scale_factor])\n",
    "    ax.set_title('VDF (image{} from point {} with sizes {}measured mannually)'.format(i, dict_for_image_storage[DP_file_name][i][2], mannual_measured_size_round[i]))\n",
    "    ax.set_xlabel('X (nm)')  # Adjust the label according to your data unit\n",
    "    ax.set_ylabel('Y (nm)')  # Adjust the label according to your data unit\n",
    "\n",
    "plt.tight_layout()  # Adjust spacing between subplots for better visualization\n",
    "plt.savefig('Size measuremnts.tif') \n",
    "plt.show()"
   ]
  },
  {
   "cell_type": "code",
   "execution_count": 139,
   "id": "3870d1a1",
   "metadata": {},
   "outputs": [
    {
     "ename": "NameError",
     "evalue": "name 'image_width' is not defined",
     "output_type": "error",
     "traceback": [
      "\u001b[1;31m---------------------------------------------------------------------------\u001b[0m",
      "\u001b[1;31mNameError\u001b[0m                                 Traceback (most recent call last)",
      "\u001b[1;32m<ipython-input-139-d1f2cba1b3cd>\u001b[0m in \u001b[0;36m<module>\u001b[1;34m\u001b[0m\n\u001b[0;32m     29\u001b[0m \u001b[1;33m\u001b[0m\u001b[0m\n\u001b[0;32m     30\u001b[0m     \u001b[0mcenter_x\u001b[0m\u001b[1;33m,\u001b[0m \u001b[0mcenter_y\u001b[0m \u001b[1;33m=\u001b[0m \u001b[1;33m[\u001b[0m\u001b[0mcoord\u001b[0m \u001b[1;33m*\u001b[0m \u001b[0mscale_factor\u001b[0m \u001b[1;32mfor\u001b[0m \u001b[0mcoord\u001b[0m \u001b[1;32min\u001b[0m \u001b[0mdict_for_image_storage\u001b[0m\u001b[1;33m[\u001b[0m\u001b[0mDP_file_name\u001b[0m\u001b[1;33m]\u001b[0m\u001b[1;33m[\u001b[0m\u001b[0mi\u001b[0m \u001b[1;33m+\u001b[0m \u001b[1;36m1\u001b[0m\u001b[1;33m]\u001b[0m\u001b[1;33m[\u001b[0m\u001b[1;36m3\u001b[0m\u001b[1;33m]\u001b[0m\u001b[1;33m]\u001b[0m\u001b[1;33m\u001b[0m\u001b[1;33m\u001b[0m\u001b[0m\n\u001b[1;32m---> 31\u001b[1;33m     \u001b[0mcenter_x\u001b[0m \u001b[1;33m+=\u001b[0m \u001b[0mimage_width\u001b[0m \u001b[1;33m/\u001b[0m \u001b[1;36m2\u001b[0m\u001b[1;33m\u001b[0m\u001b[1;33m\u001b[0m\u001b[0m\n\u001b[0m\u001b[0;32m     32\u001b[0m     \u001b[0mcenter_y\u001b[0m \u001b[1;33m=\u001b[0m \u001b[0mimage_width\u001b[0m \u001b[1;33m/\u001b[0m \u001b[1;36m2\u001b[0m \u001b[1;33m-\u001b[0m \u001b[0mcenter_y\u001b[0m\u001b[1;33m\u001b[0m\u001b[1;33m\u001b[0m\u001b[0m\n\u001b[0;32m     33\u001b[0m \u001b[1;33m\u001b[0m\u001b[0m\n",
      "\u001b[1;31mNameError\u001b[0m: name 'image_width' is not defined"
     ]
    }
   ],
   "source": [
    "# Calculate the number of rows and columns for subplots\n",
    "num_images = len(dict_for_image_storage[DP_file_name])\n",
    "num_cols = int(np.sqrt(num_images))  # Number of columns (square root of num_images)\n",
    "num_rows = num_images // num_cols  # Number of rows\n",
    "image_width=\n",
    "if num_images % num_cols != 0:\n",
    "    num_rows += 1\n",
    "# Create subplots\n",
    "fig, axes = plt.subplots(num_rows, num_cols, figsize=(18, 6*num_rows))\n",
    "\n",
    "# Iterate through the dictionary and plot images horizontally\n",
    "for i in range(num_images):\n",
    "    row = i // num_cols  # Calculate the row index\n",
    "    col = i % num_cols  # Calculate the column index\n",
    "    \n",
    "    data = dict_for_image_storage[DP_file_name][i + 1][0]\n",
    "    scale_factor = dict_for_image_storage[DP_file_name][i + 1][1]\n",
    "    ax = axes[row, col]  # Select the appropriate subplot\n",
    "    max_intensity = data.max()  # Calculate the maximum intensity value of the image\n",
    "    upper_intensity_limit = max_intensity / 10  # Set the upper intensity limit to 1/3 of the maximum intensity\n",
    "\n",
    "    # Plot the image with adjusted upper intensity limit\n",
    "    ax.imshow(data, cmap='gray', extent=[0, data.shape[1] * scale_factor, 0, data.shape[0] * scale_factor], vmax=upper_intensity_limit)\n",
    "    ax.set_title('DP (image {} from point {} with reflection point at {})'.format(i + 1, dict_for_image_storage[DP_file_name][i + 1][2], \n",
    "                                                                                  dict_for_image_storage[DP_file_name][i + 1][3]))\n",
    "    ax.set_xlabel('X (nm)')  # Adjust the label according to your data unit\n",
    "    ax.set_ylabel('Y (nm)')  # Adjust the label according to your data unit\n",
    "    circle_points = 100\n",
    "    radius_in_nm = dict_for_image_storage[DP_file_name][i + 1][4]*scale_factor  # Radius in pixel\n",
    "    \n",
    "    center_x, center_y = [coord * scale_factor for coord in dict_for_image_storage[DP_file_name][i + 1][3]]\n",
    "    center_x += image_width / 2\n",
    "    center_y = image_width / 2 - center_y\n",
    "    \n",
    "    for angle in range(0, 360, 360 // circle_points):\n",
    "        x = center_x - radius_in_nm * cos(deg2rad(angle))\n",
    "        y = center_y + radius_in_nm * sin(deg2rad(angle))\n",
    "        ax.plot(x, y, marker='o', markersize=1, color='blue')\n",
    "\n",
    "plt.tight_layout()  # Adjust spacing between subplots for better visualization\n",
    "plt.savefig('All_DPs.tif')  # Save the plot as an image file\n",
    "plt.show()"
   ]
  },
  {
   "cell_type": "code",
   "execution_count": 175,
   "id": "7c8c9963",
   "metadata": {},
   "outputs": [
    {
     "data": {
      "text/plain": [
       "10"
      ]
     },
     "execution_count": 175,
     "metadata": {},
     "output_type": "execute_result"
    }
   ],
   "source": [
    "len(dict_for_image_storage[DP_file_name])"
   ]
  }
 ],
 "metadata": {
  "kernelspec": {
   "display_name": "Python 3",
   "language": "python",
   "name": "python3"
  },
  "language_info": {
   "codemirror_mode": {
    "name": "ipython",
    "version": 3
   },
   "file_extension": ".py",
   "mimetype": "text/x-python",
   "name": "python",
   "nbconvert_exporter": "python",
   "pygments_lexer": "ipython3",
   "version": "3.7.10"
  }
 },
 "nbformat": 4,
 "nbformat_minor": 5
}
