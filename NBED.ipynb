{
 "cells": [
  {
   "cell_type": "code",
   "execution_count": 2,
   "id": "94801016",
   "metadata": {},
   "outputs": [
    {
     "name": "stderr",
     "output_type": "stream",
     "text": [
      "WARNING:silx.opencl.common:Unable to import pyOpenCl. Please install it from: https://pypi.org/project/pyopencl\n"
     ]
    }
   ],
   "source": [
    "#%matplotlib nbagg\n",
    "#%matplotlib notebook\n",
    "import matplotlib.pyplot as plt \n",
    "%matplotlib qt\n",
    "import numpy as np\n",
    "import pyxem as pxm\n",
    "import hyperspy.api as hs\n",
    "from pyxem.libraries.calibration_library import CalibrationDataLibrary\n",
    "from pyxem.generators.calibration_generator import CalibrationGenerator\n",
    "#%matplotlib inline"
   ]
  },
  {
   "cell_type": "code",
   "execution_count": 3,
   "id": "12fdc554",
   "metadata": {},
   "outputs": [],
   "source": [
    "s1=hs.load('STEM SI.dm4')"
   ]
  },
  {
   "cell_type": "code",
   "execution_count": 4,
   "id": "16422d4b",
   "metadata": {},
   "outputs": [],
   "source": [
    "s=s1[2]"
   ]
  },
  {
   "cell_type": "code",
   "execution_count": 108,
   "id": "59aa1965",
   "metadata": {},
   "outputs": [
    {
     "name": "stdout",
     "output_type": "stream",
     "text": [
      "3\n"
     ]
    }
   ],
   "source": [
    "#search for sub-folder name\n",
    "import os\n",
    "import re\n",
    "def sub_folder_number():\n",
    "    # Get the current working directory\n",
    "    current_directory = os.getcwd()\n",
    "\n",
    "    # Extract the folder name from the path\n",
    "    folder_name = os.path.basename(current_directory)\n",
    "\n",
    "    # Use regular expression to extract the number from the folder name\n",
    "    number = re.search(r'\\((\\d+)\\)', folder_name)\n",
    "\n",
    "    if number:\n",
    "        extracted_number = number.group(1)\n",
    "        print(extracted_number)  # Output:  the number inside the parentheses in your current folder name\n",
    "        return int(extracted_number)\n",
    "    else:\n",
    "        print(\"Number not found in the folder name.\")\n",
    "sub_folder=sub_folder_number()"
   ]
  },
  {
   "cell_type": "code",
   "execution_count": 5,
   "id": "a4184765",
   "metadata": {},
   "outputs": [],
   "source": [
    "s.set_signal_type('electron_diffraction')"
   ]
  },
  {
   "cell_type": "code",
   "execution_count": 11,
   "id": "982b2934",
   "metadata": {},
   "outputs": [],
   "source": [
    "s.plot() #please move to the ROI in the navigation image"
   ]
  },
  {
   "cell_type": "code",
   "execution_count": 12,
   "id": "0aa1e3d3",
   "metadata": {},
   "outputs": [],
   "source": [
    "roi = hs.roi.CircleROI(cx=-2.6,cy=-1.13, r_inner=0, r=0.5) # mask on specific reflection point"
   ]
  },
  {
   "cell_type": "code",
   "execution_count": 13,
   "id": "ad0d715f",
   "metadata": {},
   "outputs": [
    {
     "data": {
      "application/vnd.jupyter.widget-view+json": {
       "model_id": "aa7a333363bf4d61b1000e8b1c671e3a",
       "version_major": 2,
       "version_minor": 0
      },
      "text/plain": [
       "VBox(children=(HBox(children=(FloatText(value=-2.6, description='x'), FloatText(value=-1.13, description='y'))…"
      ]
     },
     "metadata": {},
     "output_type": "display_data"
    }
   ],
   "source": [
    "roi.gui() # after run this code, drag the ROI to the flection point"
   ]
  },
  {
   "cell_type": "code",
   "execution_count": 127,
   "id": "87bc977d",
   "metadata": {},
   "outputs": [],
   "source": [
    "s.plot_integrated_intensity(roi)"
   ]
  },
  {
   "cell_type": "code",
   "execution_count": 151,
   "id": "2afa7567",
   "metadata": {},
   "outputs": [],
   "source": [
    "SI_image_coord=(252,6) # your input  # (x,y):the coordinations of picked spot in the SI image. Read from Diffraction SI Signal\n",
    "x=roi[0]\n",
    "y=roi[1]  \n",
    "\n",
    "Center_of_reflection=(x,y) \n",
    "Center_of_reflection_in_pixel= (Center_of_reflection[0]/s.axes_manager[3].scale,Center_of_reflection[1]/s.axes_manager[3].scale) # # (x,y):the coordinations of the picked reflection point in the Diffraction pattern, copied from roi.gui()\n",
    "DP_image=s.inav[SI_image_coord] #retrieve DP data\n",
    "DP_image_data=DP_image.data\n",
    "radius=0.5 # your input \n",
    "radius_in_pixel=radius/s.axes_manager[3].scale"
   ]
  },
  {
   "cell_type": "code",
   "execution_count": 152,
   "id": "6c701924",
   "metadata": {},
   "outputs": [],
   "source": [
    "roi2 = hs.roi.CircleROI(cx=Center_of_reflection[0],cy=Center_of_reflection[1], r_inner=0, r=radius) # this is the same as roi, but for selecting VDF image"
   ]
  },
  {
   "cell_type": "code",
   "execution_count": 153,
   "id": "6ad98cad",
   "metadata": {},
   "outputs": [],
   "source": [
    "vdf = s.get_integrated_intensity(roi2)\n",
    "vdf.plot()\n",
    "vdf_data=vdf.data.data\n",
    "vdf_pixel_to_nm=s.axes_manager[1].scale\n",
    "DP_pixel_to_nm=s.axes_manager[3].scale"
   ]
  },
  {
   "cell_type": "code",
   "execution_count": 185,
   "id": "3b72c53c",
   "metadata": {},
   "outputs": [
    {
     "name": "stdout",
     "output_type": "stream",
     "text": [
      "1\n"
     ]
    }
   ],
   "source": [
    "import os\n",
    "\n",
    "# Check if the file containing image_num exists\n",
    "if os.path.exists(\"image_num.txt\"):\n",
    "    # If it exists, read the value from the file\n",
    "    with open(\"image_num.txt\", \"r\") as file:\n",
    "        image_num = int(file.read())\n",
    "else:\n",
    "    # If it doesn't exist, initialize image_num to 0\n",
    "    image_num = 0\n",
    "\n",
    "# Increment image_num\n",
    "image_num += 1\n",
    "\n",
    "# Write the updated value back to the file\n",
    "with open(\"image_num.txt\", \"w\") as file:\n",
    "    file.write(str(image_num))\n",
    "\n",
    "# Print the updated value of image_num\n",
    "print(image_num)"
   ]
  },
  {
   "cell_type": "code",
   "execution_count": null,
   "id": "664691d2",
   "metadata": {},
   "outputs": [],
   "source": []
  },
  {
   "cell_type": "code",
   "execution_count": 157,
   "id": "cfef44a2",
   "metadata": {},
   "outputs": [],
   "source": [
    "# Check if the dictionaries do not exist in the global scope and create them if necessary\n",
    "if 'manual_measured_size' not in globals():\n",
    "    manual_measured_size = {}\n",
    "\n",
    "if 'semi_manual_measured_size' not in globals():\n",
    "    semi_manual_measured_size = {}\n",
    "    \n",
    "if 'coord_in_SI' not in locals() or 'dict_for_image_storage' not in globals():\n",
    "    coord_in_SI=[]\n",
    "coord_in_SI.append(SI_image_coord) # Store the picked spot from SI image.\n",
    "\n",
    "# Check if dict_for_image_storage exists, if not, initialize it as an empty dictionary\n",
    "if 'dict_for_image_storage' not in locals() or 'dict_for_image_storage' not in globals():\n",
    "    dict_for_image_storage = {}\n",
    "VDF_file_name = '1-{}-VDF'.format(sub_folder)\n",
    "DP_file_name = '1-{}-DP'.format(sub_folder)\n",
    "    \n",
    "# Check if '1-2-VDF' and '1-2-DP' keys exist in dict_for_image_storage\n",
    "if VDF_file_name not in dict_for_image_storage:\n",
    "    dict_for_image_storage[VDF_file_name] = {}\n",
    "if DP_file_name not in dict_for_image_storage:\n",
    "    dict_for_image_storage[DP_file_name] = {}\n",
    "\n",
    "# Assuming vdf_data, DP_image_data, SI_image_coord, Center_of_reflection_in_pixel, and radius_in_pixel are defined elsewhere\n",
    "# Update data in the dictionary\n",
    "dict_for_image_storage[VDF_file_name][image_num] = (vdf_data, vdf_pixel_to_nm)  # (image#, vdf data)\n",
    "dict_for_image_storage[DP_file_name][image_num] = (DP_image_data, DP_pixel_to_nm, SI_image_coord, Center_of_reflection_in_pixel, radius_in_pixel)\n",
    "\n",
    "# Save images in text files\n",
    "np.savetxt('1-{}-{}-VDF.txt'.format(sub_folder,image_num), dict_for_image_storage[VDF_file_name][image_num][0])  # Save VDF data in a text file\n",
    "np.savetxt('1-{}-{}-DP.txt'.format(sub_folder,image_num), dict_for_image_storage[DP_file_name][image_num][0])  # Save DP image data in a text file                        \n"
   ]
  },
  {
   "cell_type": "code",
   "execution_count": 159,
   "id": "fa39f456",
   "metadata": {},
   "outputs": [
    {
     "name": "stdout",
     "output_type": "stream",
     "text": [
      "Final Adjusted Lengths:\n",
      "Measured Length: 31.49 nm\n"
     ]
    }
   ],
   "source": [
    "#Measure the linewidth mannually\n",
    "from matplotlib.widgets import SpanSelector\n",
    "if 'manual_coord' not in globals():\n",
    "    manual_coord= {}\n",
    "\n",
    "# Assuming dict_for_image_storage, image_num, vdf_pixel_to_nm, and vdf_data are defined\n",
    "vdf_data = dict_for_image_storage[VDF_file_name ][image_num][0]\n",
    "vdf_scale_factor = vdf_pixel_to_nm  # Adjust the scale based on vdf_pixel_to_nm\n",
    "\n",
    "# Lists to store line coordinates and measured lengths\n",
    "line_coords = []\n",
    "line_lengths = []\n",
    "\n",
    "# Function to be called when a line is selected\n",
    "def onselect(xmin, xmax):\n",
    "    x_coords = [xmin, xmax]\n",
    "    line_coords.append(x_coords)\n",
    "    length_nm = (xmax - xmin)\n",
    "    line_lengths.append(length_nm)\n",
    "    print(f'Measured Length: {length_nm:.2f} nm')\n",
    "    plt.axhline(y=0, color='red', linewidth=2)  # Draw a red line after each measurement\n",
    "    plt.draw()\n",
    "\n",
    "fig, ax = plt.subplots(figsize=(6, 6))\n",
    "ax.imshow(vdf_data, cmap='gray', extent=[0, vdf_data.shape[1] * vdf_scale_factor, 0, vdf_data.shape[0] * vdf_scale_factor])\n",
    "plt.title('VDF Data (Image {})'.format(image_num))\n",
    "plt.xlabel('X (nm)')  # X-axis label indicating nanometers\n",
    "plt.ylabel('Y (nm)')  # Y-axis label indicating nanometers\n",
    "\n",
    "# SpanSelector to draw lines interactively\n",
    "span = SpanSelector(ax, onselect, 'horizontal', useblit=True, rectprops=dict(alpha=0.5, facecolor='red'))\n",
    "color_list=['red','green','blue','yellow','white']\n",
    "plt.show()\n",
    "\n",
    "# Print the final adjusted lengths\n",
    "print('Final Adjusted Lengths:')\n",
    "for i, length in enumerate(line_lengths):\n",
    "    print(f'Line {i + 1}: {length:.2f} nm')"
   ]
  },
  {
   "cell_type": "code",
   "execution_count": 160,
   "id": "7581c415",
   "metadata": {},
   "outputs": [],
   "source": [
    "#run the following script to save the figure with measurements and the results\n",
    "fig, ax = plt.subplots(figsize=(6, 6))\n",
    "ax.imshow(vdf_data, cmap='gray', extent=[0, vdf_data.shape[1] * vdf_scale_factor, 0, vdf_data.shape[0] * vdf_scale_factor])\n",
    "plt.title('VDF Data (Image {})'.format(image_num))\n",
    "plt.xlabel('X (nm)')  # X-axis label indicating nanometers\n",
    "plt.ylabel('Y (nm)')\n",
    "color_list=['red','green','blue','yellow','white']\n",
    "plot_position=[-30,vdf_data.shape[0]* vdf_scale_factor+20]\n",
    "manual_coord[image_num]=np.array([line_coords])\n",
    "for i in range(len(line_coords)):\n",
    "    plt.axvline(x=line_coords[i][0], color=color_list[i], linestyle='--', linewidth=2)\n",
    "    plt.axvline(x=line_coords[i][1], color=color_list[i], linestyle='--', linewidth=2)\n",
    "    particle_num=i+1\n",
    "    plt.text(line_coords[i][0], plot_position[i%2],'particle %s \\n %s nm'%(particle_num,round(line_lengths[i],1)), fontsize=10, ha='center', va='center',c=color_list[i])\n",
    "plt.show()\n",
    "plt.savefig('1-{}-{}-VDF-{}nm_manualy.tif'.format(sub_folder,image_num, line_lengths))\n",
    "line_lengths_array = np.array(line_lengths)\n",
    "line_lengths_round=np.round(line_lengths_array,1)\n",
    "np.savetxt('1-{}-{}-VDF-{}nm-mannauly.txt'.format(sub_folder,image_num, line_lengths_round),line_lengths_round)\n",
    "mannual_measured_size[image_num]=line_lengths"
   ]
  },
  {
   "cell_type": "code",
   "execution_count": 161,
   "id": "01d56949",
   "metadata": {},
   "outputs": [
    {
     "name": "stdout",
     "output_type": "stream",
     "text": [
      "mannual_measured_size: {1: [37.52170876689976], 2: [17.58010131036562], 3: [17.58010131036562, 19.154438741144645], 4: [21.515944887313168, 11.807530730842586, 12.594699446232084], 5: [18.892049169348127, 12.069920302639105, 14.169036877011138], 6: [10.495582871860051], 7: [28.33807375402222], 8: [18.892049169348184], 9: [11.020362015453088], 10: [31.486748615580154]} \n",
      "mannual_coordination: {1: array([[[ 7.34690801, 44.86861678]]]), 2: array([[[54.05225179, 71.6323531 ]]]), 3: array([[[ 97.34653114, 114.92663245],\n",
      "        [114.92663245, 134.08107119]]]), 4: array([[[138.01691476, 159.53285965],\n",
      "        [161.10719708, 172.91472781],\n",
      "        [176.85057139, 189.44527084]]]), 5: array([[[198.62890585, 217.52095502],\n",
      "        [218.30812373, 230.37804404],\n",
      "        [230.64043361, 244.80947049]]]), 6: array([[[309.09491558, 319.59049845]]]), 7: array([[[338.22015805, 366.5582318 ]]]), 8: array([[[401.45604485, 420.34809402]]]), 9: array([[[473.35078752, 484.37114954]]]), 10: array([[[479.91052682, 511.39727543]]])}\n"
     ]
    }
   ],
   "source": [
    "print('mannual_measured_size:',mannual_measured_size,'\\nmannual_coordination:',manual_coord)"
   ]
  },
  {
   "cell_type": "code",
   "execution_count": 162,
   "id": "f4e50a63",
   "metadata": {},
   "outputs": [
    {
     "name": "stdout",
     "output_type": "stream",
     "text": [
      "Measured Length: [33.77815068] nm\n"
     ]
    }
   ],
   "source": [
    "#Semi-manual\n",
    "\n",
    "\n",
    "# Define Region of Interest (ROI)\n",
    "x_prime=7.5 #your input\n",
    "y_prime=17. #your input\n",
    "import numpy as np\n",
    "import matplotlib.pyplot as plt\n",
    "if 'semi_manual_coord' not in globals():\n",
    "    semi_manual_coord= {}\n",
    "\n",
    "vdf_data_with_scale = dict_for_image_storage[VDF_file_name][image_num][0]\n",
    "vdf_scale_factor = vdf_pixel_to_nm  # Adjust the scale based on vdf_pixel_to_nm\n",
    "plt.figure(figsize=(6, 6))\n",
    "plt.imshow(vdf_data_with_scale, cmap='gray', extent=[0, vdf_data_with_scale.shape[1] * vdf_scale_factor, 0, vdf_data_with_scale.shape[0] * vdf_scale_factor])\n",
    "plt.title('VDF Data (Image {})'.format(image_num))\n",
    "plt.xlabel('X (nm)')  # X-axis label indicating nanometers\n",
    "plt.ylabel('Y (nm)')  # Y-axis label indicating nanometers\n",
    "\n",
    "\n",
    "# Define Region of Interest (ROI)\n",
    "x_prime=6 #your input\n",
    "y_prime=17. #your input\n",
    "\n",
    "number_start=round(x_prime/vdf_scale_factor)\n",
    "number_end=round(y_prime/vdf_scale_factor)\n",
    "\n",
    "threshold = 40000  # Threshold value for the signal\n",
    "\n",
    "\n",
    "roi_data = vdf_data[number_start:number_end,:]  # Extract ROI\n",
    "\n",
    "mid= round((y_prime-x_prime)/2/vdf_scale_factor)\n",
    "start_col=[]\n",
    "end_col = []\n",
    "start_Found=False\n",
    "\n",
    "for col in range(roi_data.shape[1]):\n",
    "    if roi_data[mid,col]>threshold and start_Found is False:\n",
    "        start_col.append(col)\n",
    "        start_Found=True\n",
    "    if roi_data[mid,col]<threshold and start_Found:\n",
    "        end_col.append(col)\n",
    "        start_Found=False\n",
    "if len(start_col)==(len(end_col)+1): #if start_col is larger than end_col\n",
    "    start_col.pop() #remove the last added one\n",
    "\n",
    "combined_cols = list(zip(start_col, end_col))\n",
    "\n",
    "combined_cols_array = np.array(combined_cols)\n",
    "semi_manual_coord[image_num]=combined_cols_array\n",
    "\n",
    "# Plot the VDF data\n",
    "plt.imshow(vdf_data, cmap='gray', extent=[0, vdf_data.shape[1], 0, vdf_data.shape[0]])\n",
    "plt.title('VDF Data (Image {})'.format(image_num))\n",
    "plt.xlabel('X (pixels)')\n",
    "plt.ylabel('Y (pixels)')\n",
    "\n",
    "# Draw the line on the plot\n",
    "color_list=['red','green','blue','yellow','white']\n",
    "plot_position=[-30,vdf_data.shape[0]* vdf_scale_factor+20]\n",
    "for i in range(len(start_col)):\n",
    "    if start_col is not None and end_col is not None:\n",
    "        plt.axvline(x=start_col[i], color=color_list[i], linestyle='--', linewidth=2)\n",
    "        plt.axvline(x=end_col[i], color=color_list[i], linestyle='--', linewidth=2)\n",
    "\n",
    "plt.show()\n",
    "start_col_array=np.array(start_col)\n",
    "end_col_array=np.array(end_col)\n",
    "measured_length = (end_col_array - start_col_array) * s.axes_manager[1].scale\n",
    "print('Measured Length:', measured_length, 'nm')\n",
    "\n",
    "# Save the plot\n",
    "plt.savefig('1-{}-{}-VDF-{}nm_semi_mannualy.tif'.format(sub_folder,image_num, np.round(measured_length,1)))\n",
    "np.savetxt('1-{}-{}-VDF-{}nm-semi_mannauly.txt'.format(sub_folder,image_num, np.round(measured_length,1)),measured_length)\n",
    "semi_mannual_measured_size[image_num]=measured_length\n"
   ]
  },
  {
   "cell_type": "code",
   "execution_count": 163,
   "id": "a520be5d",
   "metadata": {},
   "outputs": [
    {
     "name": "stdout",
     "output_type": "stream",
     "text": [
      "semi_mannual_measured_size: {1: array([33.77815068]), 2: array([13.90865028]), 3: array([11.92170024, 17.88255036]), 4: array([17.88255036,  9.9347502 ]), 5: array([15.89560032, 13.90865028]), 6: array([9.9347502]), 7: array([31.79120064]), 8: array([21.85645044]), 9: array([9.9347502]), 10: array([33.77815068])} \n",
      "semi_mannual_coordination: {1: array([[ 4, 21]]), 2: array([[28, 35]]), 3: array([[51, 57],\n",
      "       [58, 67]]), 4: array([[71, 80],\n",
      "       [82, 87]]), 5: array([[101, 109],\n",
      "       [111, 118]]), 6: array([[156, 161]]), 7: array([[169, 185]]), 8: array([[201, 212]]), 9: array([[237, 242]]), 10: array([[241, 258]])}\n"
     ]
    }
   ],
   "source": [
    "print('semi_mannual_measured_size:',semi_mannual_measured_size,'\\nsemi_mannual_coordination:',semi_manual_coord)"
   ]
  },
  {
   "cell_type": "code",
   "execution_count": 180,
   "id": "a60f07b1",
   "metadata": {},
   "outputs": [],
   "source": [
    "#export the measured sizes from mannual or semi-mannual\n",
    "list_semi_mannual_measured_size=[]\n",
    "for i in range(len(semi_mannual_measured_size)):\n",
    "    list_semi_mannual_measured_size.append(semi_mannual_measured_size[i+1])\n",
    "\n",
    "def flatten(data):\n",
    "    flat_list = []\n",
    "    for item in data:\n",
    "        if isinstance(item, (int, float)):\n",
    "            flat_list.append(item)\n",
    "        elif isinstance(item, list):\n",
    "            flat_list.extend(flatten(item))\n",
    "        elif isinstance(item, np.ndarray):\n",
    "            flat_list.extend(item.tolist())\n",
    "    return flat_list\n",
    "\n",
    "flat_list_semi_mannual_measured_size = flatten(list_semi_mannual_measured_size)\n",
    "\n",
    "np.savetxt('Total semi_mannual_measured_size.txt',flat_list_semi_mannual_measured_size )\n",
    "\n",
    "list_mannual_measured_size=[]\n",
    "\n",
    "for i in range(len(mannual_measured_size)):\n",
    "    list_mannual_measured_size.append(mannual_measured_size[i+1])\n",
    "\n",
    "\n",
    "flat_list_mannual_measured_size = flatten(list_mannual_measured_size)\n",
    "np.savetxt('Total mannual_measured_size.txt',flat_list_mannual_measured_size )\n"
   ]
  },
  {
   "cell_type": "code",
   "execution_count": 165,
   "id": "fb0ea1dc",
   "metadata": {},
   "outputs": [],
   "source": [
    "#Save all the files # dicts\n",
    "import pickle\n",
    "\n",
    "\n",
    "dicts_to_save = {\n",
    "    'mannual_measured_size': mannual_measured_size,\n",
    "    'semi_mannual_measured_size': semi_mannual_measured_size,\n",
    "    'dict_for_image_storage': dict_for_image_storage,\n",
    "    'semi_manual_coord':semi_manual_coord,\n",
    "    'manual_coord': manual_coord\n",
    "}\n",
    "\n",
    "with open('saved_dicts.pkl', 'wb') as file:\n",
    "    pickle.dump(dicts_to_save, file)"
   ]
  },
  {
   "cell_type": "code",
   "execution_count": 280,
   "id": "99677ca5",
   "metadata": {},
   "outputs": [],
   "source": [
    "# Load the dictionary containing our data\n",
    "with open('saved_dicts.pkl', 'rb') as file:\n",
    "    loaded_dicts = pickle.load(file)\n",
    "\n",
    "# Access individual dictionaries using their variable names\n",
    "#mannual_measured_size = loaded_dicts['mannual_measured_size']\n",
    "#semi_mannual_measured_size = loaded_dicts['semi_mannual_measured_size']\n",
    "#dict_for_image_storage = loaded_dicts['dict_for_image_storage']\n"
   ]
  },
  {
   "cell_type": "code",
   "execution_count": 166,
   "id": "d38ab842",
   "metadata": {},
   "outputs": [],
   "source": [
    "#After all the measurements done. Plotting all the DF images\n",
    "num_images = len(dict_for_image_storage[VDF_file_name])\n",
    "fig, axes = plt.subplots(num_images, 1, figsize=(8, 6*num_images))\n",
    "semi_mannual_measured_size_round = {k: round(v, 1) if not isinstance(v, np.ndarray) else np.round(v, 1) for k, v in semi_mannual_measured_size.items()}\n",
    "mannual_measured_size_round = {k: [round(num, 1) for num in v] for k, v in mannual_measured_size.items()}\n",
    "# Iterate through the dictionary and plot images vertically\n",
    "for i in range(1, num_images + 1):\n",
    "    data, scale_factor = dict_for_image_storage[VDF_file_name][i]\n",
    "    ax = axes[i - 1]  # Select the appropriate subplot\n",
    "    ax.imshow(data, cmap='gray', extent=[0, data.shape[1] * scale_factor, 0, data.shape[0] * scale_factor])\n",
    "    ax.set_title('VDF (image{} from point {} with sizes {} and {} measured by semi- or mannually)'.format(i, dict_for_image_storage['1-3-DP'][i][2], mannual_measured_size_round[i], semi_mannual_measured_size_round[i]))\n",
    "    ax.set_xlabel('X (nm)')  # Adjust the label according to your data unit\n",
    "    ax.set_ylabel('Y (nm)')  # Adjust the label according to your data unit\n",
    "\n",
    "plt.tight_layout()  # Adjust spacing between subplots for better visualization\n",
    "plt.savefig('Size measuremnts.tif') \n",
    "plt.show()"
   ]
  },
  {
   "cell_type": "code",
   "execution_count": 179,
   "id": "3870d1a1",
   "metadata": {},
   "outputs": [],
   "source": [
    "# Calculate the number of rows and columns for subplots\n",
    "num_images = len(dict_for_image_storage[DP_file_name])\n",
    "num_cols = int(np.sqrt(num_images))  # Number of columns (square root of num_images)\n",
    "num_rows = num_images // num_cols  # Number of rows\n",
    "if num_images % num_cols != 0:\n",
    "    num_rows += 1\n",
    "# Create subplots\n",
    "fig, axes = plt.subplots(num_rows, num_cols, figsize=(18, 6*num_rows))\n",
    "\n",
    "# Iterate through the dictionary and plot images horizontally\n",
    "for i in range(num_images):\n",
    "    row = i // num_cols  # Calculate the row index\n",
    "    col = i % num_cols  # Calculate the column index\n",
    "    \n",
    "    data = dict_for_image_storage[DP_file_name][i + 1][0]\n",
    "    scale_factor = dict_for_image_storage[DP_file_name][i + 1][1]\n",
    "    ax = axes[row, col]  # Select the appropriate subplot\n",
    "    max_intensity = data.max()  # Calculate the maximum intensity value of the image\n",
    "    upper_intensity_limit = max_intensity / 10  # Set the upper intensity limit to 1/3 of the maximum intensity\n",
    "\n",
    "    # Plot the image with adjusted upper intensity limit\n",
    "    ax.imshow(data, cmap='gray', extent=[0, data.shape[1] * scale_factor, 0, data.shape[0] * scale_factor], vmax=upper_intensity_limit)\n",
    "    ax.set_title('DP (image {} from point {} with reflection point at {})'.format(i + 1, dict_for_image_storage[DP_file_name][i + 1][2], \n",
    "                                                                                  dict_for_image_storage[DP_file_name][i + 1][3]))\n",
    "    ax.set_xlabel('X (nm)')  # Adjust the label according to your data unit\n",
    "    ax.set_ylabel('Y (nm)')  # Adjust the label according to your data unit\n",
    "    circle_points = 100\n",
    "    radius_in_nm = dict_for_image_storage['1-3-DP'][i + 1][4]*scale_factor  # Radius in pixel\n",
    "    \n",
    "    center_x, center_y = [coord * scale_factor for coord in dict_for_image_storage[DP_file_name][i + 1][3]]\n",
    "    center_x += image_width / 2\n",
    "    center_y = image_width / 2 - center_y\n",
    "    \n",
    "    for angle in range(0, 360, 360 // circle_points):\n",
    "        x = center_x - radius_in_nm * cos(deg2rad(angle))\n",
    "        y = center_y + radius_in_nm * sin(deg2rad(angle))\n",
    "        ax.plot(x, y, marker='o', markersize=1, color='blue')\n",
    "\n",
    "plt.tight_layout()  # Adjust spacing between subplots for better visualization\n",
    "plt.savefig('All_DPs.tif')  # Save the plot as an image file\n",
    "plt.show()"
   ]
  },
  {
   "cell_type": "code",
   "execution_count": 175,
   "id": "7c8c9963",
   "metadata": {},
   "outputs": [
    {
     "data": {
      "text/plain": [
       "10"
      ]
     },
     "execution_count": 175,
     "metadata": {},
     "output_type": "execute_result"
    }
   ],
   "source": [
    "len(dict_for_image_storage[DP_file_name])"
   ]
  }
 ],
 "metadata": {
  "kernelspec": {
   "display_name": "Python 3",
   "language": "python",
   "name": "python3"
  },
  "language_info": {
   "codemirror_mode": {
    "name": "ipython",
    "version": 3
   },
   "file_extension": ".py",
   "mimetype": "text/x-python",
   "name": "python",
   "nbconvert_exporter": "python",
   "pygments_lexer": "ipython3",
   "version": "3.7.10"
  }
 },
 "nbformat": 4,
 "nbformat_minor": 5
}
