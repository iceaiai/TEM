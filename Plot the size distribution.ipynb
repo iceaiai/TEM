{
 "cells": [
  {
   "cell_type": "code",
   "execution_count": 39,
   "id": "86ead64a",
   "metadata": {},
   "outputs": [],
   "source": [
    "import numpy as np\n",
    "from math import *\n",
    "import os\n",
    "import matplotlib.pyplot as plt \n",
    "%matplotlib qt\n",
    "# Define the base directory path\n",
    "base_directory = r'D:\\Asif\\2023-10-11 DA009 010\\sample 1'\n",
    "\n",
    "# Initialize an empty list to store the numbers\n",
    "all_numbers = []\n",
    "\n",
    "# Loop through folders SI data (2) to SI data (10)\n",
    "for i in range(2, 11):\n",
    "    folder_name = f'SI data ({i})'\n",
    "    file_path = os.path.join(base_directory, folder_name, 'Total mannual_measured_size.txt')\n",
    "    \n",
    "    # Check if the file exists in the folder\n",
    "    if os.path.exists(file_path):\n",
    "        # Open the file and read the numbers\n",
    "        with open(file_path, 'r', encoding='utf-8') as file:\n",
    "            # Read lines from the file and extract numbers\n",
    "            numbers = [float(line.strip()) for line in file.readlines()]\n",
    "            # Add the numbers to the list\n",
    "            all_numbers.extend(numbers)\n",
    "    else:\n",
    "        print(f'File not found in folder: {folder_name}')\n"
   ]
  },
  {
   "cell_type": "code",
   "execution_count": 48,
   "id": "1e7dc3c1",
   "metadata": {},
   "outputs": [],
   "source": [
    "\n",
    "# Calculate statistics and round to integers\n",
    "max_num = int(np.max(all_numbers))\n",
    "min_num = int(np.min(all_numbers))\n",
    "average_num = int(round(np.average(all_numbers)))\n",
    "median_num = int(round(np.median(all_numbers)))\n",
    "total_count = len(all_numbers)\n",
    "\n",
    "# Calculate step size for histogram bins\n",
    "step = int((max_num - min_num) / 10)\n",
    "\n",
    "# Create figure and axis\n",
    "fig, (ax1, ax2) = plt.subplots(nrows=2, figsize=(10, 8), gridspec_kw={'height_ratios': [1, 4]})\n",
    "\n",
    "# Plot histogram with custom bins\n",
    "ax2.hist(all_numbers, bins=np.arange(min_num, max_num + step, step), edgecolor='black')\n",
    "ax2.set_xlabel('Size (nanometer)', fontsize=15)\n",
    "ax2.set_ylabel('Counts', fontsize=15)\n",
    "ax2.set_title('Mannually measured sizes', fontsize=15) \n",
    "ax2.grid(True)\n",
    "ax2.axvline(x=average_num, color='r', linestyle='--', label=f'Average: {average_num} nm')\n",
    "\n",
    "# Create a table above the plot with font size 20\n",
    "table_data = [['Max Size', 'Min Size', 'Average Size', 'Median Size', 'Total Count'],\n",
    "              [f'{max_num} nm', f'{min_num} nm', f'{average_num} nm', f'{median_num} nm', f'{total_count}']]\n",
    "ax1.axis('off')  # Turn off the axis for the table\n",
    "table = ax1.table(cellText=table_data, cellLoc='center', colLabels=None, cellColours=[['#f2f2f2']*5, ['#f2f2f2']*5], loc='center', fontsize=20)\n",
    "\n",
    "# Adjust font size for the table cells\n",
    "for (i, j), cell in table.get_celld().items():\n",
    "    if i == 0:\n",
    "        cell.set_fontsize(20)  # Set font size for column headers\n",
    "    else:\n",
    "        cell.set_fontsize(20)  # Set font size for table content\n",
    "\n",
    "plt.tight_layout()\n",
    "plt.show()\n",
    "plt.savefig('Size distribution.tif')"
   ]
  },
  {
   "cell_type": "code",
   "execution_count": 49,
   "id": "452829dc",
   "metadata": {},
   "outputs": [],
   "source": [
    "import csv\n",
    "with open('data.csv', 'w', newline='') as csvfile:\n",
    "    csvwriter = csv.writer(csvfile)\n",
    "    csvwriter.writerow(['All Numbers'])\n",
    "    csvwriter.writerow(all_numbers)\n",
    "    csvwriter.writerow([])  # Empty row for separation\n",
    "    csvwriter.writerow(['Statistics'])\n",
    "    csvwriter.writerows(table_data)"
   ]
  },
  {
   "cell_type": "code",
   "execution_count": null,
   "id": "facb480a",
   "metadata": {},
   "outputs": [],
   "source": []
  }
 ],
 "metadata": {
  "kernelspec": {
   "display_name": "Python 3",
   "language": "python",
   "name": "python3"
  },
  "language_info": {
   "codemirror_mode": {
    "name": "ipython",
    "version": 3
   },
   "file_extension": ".py",
   "mimetype": "text/x-python",
   "name": "python",
   "nbconvert_exporter": "python",
   "pygments_lexer": "ipython3",
   "version": "3.7.10"
  }
 },
 "nbformat": 4,
 "nbformat_minor": 5
}
